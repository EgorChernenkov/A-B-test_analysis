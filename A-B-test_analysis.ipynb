{
 "cells": [
  {
   "cell_type": "markdown",
   "metadata": {},
   "source": [
    "# Приоритизация гипотез и анализ А/В-теста"
   ]
  },
  {
   "cell_type": "markdown",
   "metadata": {},
   "source": [
    "# Введение"
   ]
  },
  {
   "cell_type": "markdown",
   "metadata": {},
   "source": [
    "В данном исследовании мы приоритизируем гипотезы для увеличения выручки и проведем анализ А/В-теста \\\n",
    "\\\n",
    "**Целью** данного проекта является: \\\n",
    "В **первой** части проекта - нахождение самой приоритетной гипотезы с помощью методов приоритизации ICE и RICE \\\n",
    "Во **второй** части проекта - подвести результаты А/В-теста и дать окончательную оценку его успешности \\\n",
    "\\\n",
    "В первой части проекта мы располагаем таблицей, содержащей 10 гипотез, и данными о каждой гипотезе, отражающими Охват пользователей (Reach), Воздействие (Impact), Уверенность в результате (Confidence) и Затратах (Efforts), выраженными в значениях по шкале от 1 до 10 \\\n",
    "Во второй части проекта в нашем распоряжении данные о посетителях и заказах двух наблюдаемых групп (А и В) \\\n",
    "\\\n",
    "**План работы:** \\\n",
    "В первой части проекта мы приоритезируем гипотезы с помощью двух методов: ICE и RICE\\\n",
    "Во второй части проекта мы:\n",
    "1) Построим графики кумулятивной выручки, среднего чека и среднего количества заказов на посетителя (конверсии) \\\n",
    "2) Построим графики относительного изменения кумулятивного среднего чека и конверсии группы В к группе А \\\n",
    "3) Построим точечные графики количества заказов по пользователям и суммы заказов, а также определим границы аномальных значений \\\n",
    "4) Избавимся от аномальных значений \\\n",
    "5) Посчитаем статистическую значимость различий в среднем количестве заказов на посетителя между группами по \"сырым\" и \"очищенным\" данным \\\n",
    "6) Посчитаем статистическую значимость различий в среднем чеке заказа между группами по \"сырым\" и \"очищенным\" данным"
   ]
  },
  {
   "cell_type": "markdown",
   "metadata": {},
   "source": [
    "# Часть 1. Приоритизация гипотез."
   ]
  },
  {
   "cell_type": "markdown",
   "metadata": {},
   "source": [
    "## Знакомство с данными"
   ]
  },
  {
   "cell_type": "code",
   "execution_count": 252,
   "metadata": {},
   "outputs": [],
   "source": [
    "import pandas as pd\n",
    "import scipy.stats as stats\n",
    "import datetime as dt\n",
    "import numpy as np\n",
    "import matplotlib.pyplot as plt"
   ]
  },
  {
   "cell_type": "code",
   "execution_count": 253,
   "metadata": {
    "scrolled": true
   },
   "outputs": [
    {
     "data": {
      "text/html": [
       "<div>\n",
       "<style scoped>\n",
       "    .dataframe tbody tr th:only-of-type {\n",
       "        vertical-align: middle;\n",
       "    }\n",
       "\n",
       "    .dataframe tbody tr th {\n",
       "        vertical-align: top;\n",
       "    }\n",
       "\n",
       "    .dataframe thead th {\n",
       "        text-align: right;\n",
       "    }\n",
       "</style>\n",
       "<table border=\"1\" class=\"dataframe\">\n",
       "  <thead>\n",
       "    <tr style=\"text-align: right;\">\n",
       "      <th></th>\n",
       "      <th>Hypothesis</th>\n",
       "      <th>Reach</th>\n",
       "      <th>Impact</th>\n",
       "      <th>Confidence</th>\n",
       "      <th>Efforts</th>\n",
       "    </tr>\n",
       "  </thead>\n",
       "  <tbody>\n",
       "    <tr>\n",
       "      <th>0</th>\n",
       "      <td>Добавить два новых канала привлечения трафика, что позволит привлекать на 30% больше пользователей</td>\n",
       "      <td>3</td>\n",
       "      <td>10</td>\n",
       "      <td>8</td>\n",
       "      <td>6</td>\n",
       "    </tr>\n",
       "    <tr>\n",
       "      <th>1</th>\n",
       "      <td>Запустить собственную службу доставки, что сократит срок доставки заказов</td>\n",
       "      <td>2</td>\n",
       "      <td>5</td>\n",
       "      <td>4</td>\n",
       "      <td>10</td>\n",
       "    </tr>\n",
       "    <tr>\n",
       "      <th>2</th>\n",
       "      <td>Добавить блоки рекомендаций товаров на сайт интернет магазина, чтобы повысить конверсию и средний чек заказа</td>\n",
       "      <td>8</td>\n",
       "      <td>3</td>\n",
       "      <td>7</td>\n",
       "      <td>3</td>\n",
       "    </tr>\n",
       "    <tr>\n",
       "      <th>3</th>\n",
       "      <td>Изменить структура категорий, что увеличит конверсию, т.к. пользователи быстрее найдут нужный товар</td>\n",
       "      <td>8</td>\n",
       "      <td>3</td>\n",
       "      <td>3</td>\n",
       "      <td>8</td>\n",
       "    </tr>\n",
       "    <tr>\n",
       "      <th>4</th>\n",
       "      <td>Изменить цвет фона главной страницы, чтобы увеличить вовлеченность пользователей</td>\n",
       "      <td>3</td>\n",
       "      <td>1</td>\n",
       "      <td>1</td>\n",
       "      <td>1</td>\n",
       "    </tr>\n",
       "    <tr>\n",
       "      <th>5</th>\n",
       "      <td>Добавить страницу отзывов клиентов о магазине, что позволит увеличить количество заказов</td>\n",
       "      <td>3</td>\n",
       "      <td>2</td>\n",
       "      <td>2</td>\n",
       "      <td>3</td>\n",
       "    </tr>\n",
       "    <tr>\n",
       "      <th>6</th>\n",
       "      <td>Показать на главной странице баннеры с актуальными акциями и распродажами, чтобы увеличить конверсию</td>\n",
       "      <td>5</td>\n",
       "      <td>3</td>\n",
       "      <td>8</td>\n",
       "      <td>3</td>\n",
       "    </tr>\n",
       "    <tr>\n",
       "      <th>7</th>\n",
       "      <td>Добавить форму подписки на все основные страницы, чтобы собрать базу клиентов для email-рассылок</td>\n",
       "      <td>10</td>\n",
       "      <td>7</td>\n",
       "      <td>8</td>\n",
       "      <td>5</td>\n",
       "    </tr>\n",
       "    <tr>\n",
       "      <th>8</th>\n",
       "      <td>Запустить акцию, дающую скидку на товар в день рождения</td>\n",
       "      <td>1</td>\n",
       "      <td>9</td>\n",
       "      <td>9</td>\n",
       "      <td>5</td>\n",
       "    </tr>\n",
       "  </tbody>\n",
       "</table>\n",
       "</div>"
      ],
      "text/plain": [
       "                                                                                                     Hypothesis  \\\n",
       "0            Добавить два новых канала привлечения трафика, что позволит привлекать на 30% больше пользователей   \n",
       "1                                     Запустить собственную службу доставки, что сократит срок доставки заказов   \n",
       "2  Добавить блоки рекомендаций товаров на сайт интернет магазина, чтобы повысить конверсию и средний чек заказа   \n",
       "3           Изменить структура категорий, что увеличит конверсию, т.к. пользователи быстрее найдут нужный товар   \n",
       "4                              Изменить цвет фона главной страницы, чтобы увеличить вовлеченность пользователей   \n",
       "5                      Добавить страницу отзывов клиентов о магазине, что позволит увеличить количество заказов   \n",
       "6          Показать на главной странице баннеры с актуальными акциями и распродажами, чтобы увеличить конверсию   \n",
       "7              Добавить форму подписки на все основные страницы, чтобы собрать базу клиентов для email-рассылок   \n",
       "8                                                       Запустить акцию, дающую скидку на товар в день рождения   \n",
       "\n",
       "   Reach  Impact  Confidence  Efforts  \n",
       "0      3      10           8        6  \n",
       "1      2       5           4       10  \n",
       "2      8       3           7        3  \n",
       "3      8       3           3        8  \n",
       "4      3       1           1        1  \n",
       "5      3       2           2        3  \n",
       "6      5       3           8        3  \n",
       "7     10       7           8        5  \n",
       "8      1       9           9        5  "
      ]
     },
     "execution_count": 253,
     "metadata": {},
     "output_type": "execute_result"
    }
   ],
   "source": [
    "pd.options.display.max_colwidth = 130\n",
    "data"
   ]
  },
  {
   "cell_type": "markdown",
   "metadata": {},
   "source": [
    "## Метод приоритизации ICE"
   ]
  },
  {
   "cell_type": "code",
   "execution_count": 254,
   "metadata": {},
   "outputs": [
    {
     "data": {
      "text/html": [
       "<div>\n",
       "<style scoped>\n",
       "    .dataframe tbody tr th:only-of-type {\n",
       "        vertical-align: middle;\n",
       "    }\n",
       "\n",
       "    .dataframe tbody tr th {\n",
       "        vertical-align: top;\n",
       "    }\n",
       "\n",
       "    .dataframe thead th {\n",
       "        text-align: right;\n",
       "    }\n",
       "</style>\n",
       "<table border=\"1\" class=\"dataframe\">\n",
       "  <thead>\n",
       "    <tr style=\"text-align: right;\">\n",
       "      <th></th>\n",
       "      <th>Hypothesis</th>\n",
       "      <th>Reach</th>\n",
       "      <th>Impact</th>\n",
       "      <th>Confidence</th>\n",
       "      <th>Efforts</th>\n",
       "      <th>ICE</th>\n",
       "    </tr>\n",
       "  </thead>\n",
       "  <tbody>\n",
       "    <tr>\n",
       "      <th>8</th>\n",
       "      <td>Запустить акцию, дающую скидку на товар в день рождения</td>\n",
       "      <td>1</td>\n",
       "      <td>9</td>\n",
       "      <td>9</td>\n",
       "      <td>5</td>\n",
       "      <td>16.20</td>\n",
       "    </tr>\n",
       "    <tr>\n",
       "      <th>0</th>\n",
       "      <td>Добавить два новых канала привлечения трафика, что позволит привлекать на 30% больше пользователей</td>\n",
       "      <td>3</td>\n",
       "      <td>10</td>\n",
       "      <td>8</td>\n",
       "      <td>6</td>\n",
       "      <td>13.33</td>\n",
       "    </tr>\n",
       "    <tr>\n",
       "      <th>7</th>\n",
       "      <td>Добавить форму подписки на все основные страницы, чтобы собрать базу клиентов для email-рассылок</td>\n",
       "      <td>10</td>\n",
       "      <td>7</td>\n",
       "      <td>8</td>\n",
       "      <td>5</td>\n",
       "      <td>11.20</td>\n",
       "    </tr>\n",
       "    <tr>\n",
       "      <th>6</th>\n",
       "      <td>Показать на главной странице баннеры с актуальными акциями и распродажами, чтобы увеличить конверсию</td>\n",
       "      <td>5</td>\n",
       "      <td>3</td>\n",
       "      <td>8</td>\n",
       "      <td>3</td>\n",
       "      <td>8.00</td>\n",
       "    </tr>\n",
       "    <tr>\n",
       "      <th>2</th>\n",
       "      <td>Добавить блоки рекомендаций товаров на сайт интернет магазина, чтобы повысить конверсию и средний чек заказа</td>\n",
       "      <td>8</td>\n",
       "      <td>3</td>\n",
       "      <td>7</td>\n",
       "      <td>3</td>\n",
       "      <td>7.00</td>\n",
       "    </tr>\n",
       "    <tr>\n",
       "      <th>1</th>\n",
       "      <td>Запустить собственную службу доставки, что сократит срок доставки заказов</td>\n",
       "      <td>2</td>\n",
       "      <td>5</td>\n",
       "      <td>4</td>\n",
       "      <td>10</td>\n",
       "      <td>2.00</td>\n",
       "    </tr>\n",
       "    <tr>\n",
       "      <th>5</th>\n",
       "      <td>Добавить страницу отзывов клиентов о магазине, что позволит увеличить количество заказов</td>\n",
       "      <td>3</td>\n",
       "      <td>2</td>\n",
       "      <td>2</td>\n",
       "      <td>3</td>\n",
       "      <td>1.33</td>\n",
       "    </tr>\n",
       "    <tr>\n",
       "      <th>3</th>\n",
       "      <td>Изменить структура категорий, что увеличит конверсию, т.к. пользователи быстрее найдут нужный товар</td>\n",
       "      <td>8</td>\n",
       "      <td>3</td>\n",
       "      <td>3</td>\n",
       "      <td>8</td>\n",
       "      <td>1.12</td>\n",
       "    </tr>\n",
       "    <tr>\n",
       "      <th>4</th>\n",
       "      <td>Изменить цвет фона главной страницы, чтобы увеличить вовлеченность пользователей</td>\n",
       "      <td>3</td>\n",
       "      <td>1</td>\n",
       "      <td>1</td>\n",
       "      <td>1</td>\n",
       "      <td>1.00</td>\n",
       "    </tr>\n",
       "  </tbody>\n",
       "</table>\n",
       "</div>"
      ],
      "text/plain": [
       "                                                                                                     Hypothesis  \\\n",
       "8                                                       Запустить акцию, дающую скидку на товар в день рождения   \n",
       "0            Добавить два новых канала привлечения трафика, что позволит привлекать на 30% больше пользователей   \n",
       "7              Добавить форму подписки на все основные страницы, чтобы собрать базу клиентов для email-рассылок   \n",
       "6          Показать на главной странице баннеры с актуальными акциями и распродажами, чтобы увеличить конверсию   \n",
       "2  Добавить блоки рекомендаций товаров на сайт интернет магазина, чтобы повысить конверсию и средний чек заказа   \n",
       "1                                     Запустить собственную службу доставки, что сократит срок доставки заказов   \n",
       "5                      Добавить страницу отзывов клиентов о магазине, что позволит увеличить количество заказов   \n",
       "3           Изменить структура категорий, что увеличит конверсию, т.к. пользователи быстрее найдут нужный товар   \n",
       "4                              Изменить цвет фона главной страницы, чтобы увеличить вовлеченность пользователей   \n",
       "\n",
       "   Reach  Impact  Confidence  Efforts    ICE  \n",
       "8      1       9           9        5  16.20  \n",
       "0      3      10           8        6  13.33  \n",
       "7     10       7           8        5  11.20  \n",
       "6      5       3           8        3   8.00  \n",
       "2      8       3           7        3   7.00  \n",
       "1      2       5           4       10   2.00  \n",
       "5      3       2           2        3   1.33  \n",
       "3      8       3           3        8   1.12  \n",
       "4      3       1           1        1   1.00  "
      ]
     },
     "execution_count": 254,
     "metadata": {},
     "output_type": "execute_result"
    }
   ],
   "source": [
    "data['ICE'] = ((data['Impact'] * data['Confidence']) / data['Efforts']).round(2)\n",
    "pd.options.display.max_colwidth = 130\n",
    "data.sort_values('ICE', ascending=False)"
   ]
  },
  {
   "cell_type": "markdown",
   "metadata": {},
   "source": [
    "## Метод приоритизации RICE"
   ]
  },
  {
   "cell_type": "code",
   "execution_count": 255,
   "metadata": {},
   "outputs": [
    {
     "data": {
      "text/html": [
       "<div>\n",
       "<style scoped>\n",
       "    .dataframe tbody tr th:only-of-type {\n",
       "        vertical-align: middle;\n",
       "    }\n",
       "\n",
       "    .dataframe tbody tr th {\n",
       "        vertical-align: top;\n",
       "    }\n",
       "\n",
       "    .dataframe thead th {\n",
       "        text-align: right;\n",
       "    }\n",
       "</style>\n",
       "<table border=\"1\" class=\"dataframe\">\n",
       "  <thead>\n",
       "    <tr style=\"text-align: right;\">\n",
       "      <th></th>\n",
       "      <th>Hypothesis</th>\n",
       "      <th>Reach</th>\n",
       "      <th>Impact</th>\n",
       "      <th>Confidence</th>\n",
       "      <th>Efforts</th>\n",
       "      <th>ICE</th>\n",
       "      <th>RICE</th>\n",
       "    </tr>\n",
       "  </thead>\n",
       "  <tbody>\n",
       "    <tr>\n",
       "      <th>7</th>\n",
       "      <td>Добавить форму подписки на все основные страницы, чтобы собрать базу клиентов для email-рассылок</td>\n",
       "      <td>10</td>\n",
       "      <td>7</td>\n",
       "      <td>8</td>\n",
       "      <td>5</td>\n",
       "      <td>11.20</td>\n",
       "      <td>112.0</td>\n",
       "    </tr>\n",
       "    <tr>\n",
       "      <th>2</th>\n",
       "      <td>Добавить блоки рекомендаций товаров на сайт интернет магазина, чтобы повысить конверсию и средний чек заказа</td>\n",
       "      <td>8</td>\n",
       "      <td>3</td>\n",
       "      <td>7</td>\n",
       "      <td>3</td>\n",
       "      <td>7.00</td>\n",
       "      <td>56.0</td>\n",
       "    </tr>\n",
       "    <tr>\n",
       "      <th>0</th>\n",
       "      <td>Добавить два новых канала привлечения трафика, что позволит привлекать на 30% больше пользователей</td>\n",
       "      <td>3</td>\n",
       "      <td>10</td>\n",
       "      <td>8</td>\n",
       "      <td>6</td>\n",
       "      <td>13.33</td>\n",
       "      <td>40.0</td>\n",
       "    </tr>\n",
       "    <tr>\n",
       "      <th>6</th>\n",
       "      <td>Показать на главной странице баннеры с актуальными акциями и распродажами, чтобы увеличить конверсию</td>\n",
       "      <td>5</td>\n",
       "      <td>3</td>\n",
       "      <td>8</td>\n",
       "      <td>3</td>\n",
       "      <td>8.00</td>\n",
       "      <td>40.0</td>\n",
       "    </tr>\n",
       "    <tr>\n",
       "      <th>8</th>\n",
       "      <td>Запустить акцию, дающую скидку на товар в день рождения</td>\n",
       "      <td>1</td>\n",
       "      <td>9</td>\n",
       "      <td>9</td>\n",
       "      <td>5</td>\n",
       "      <td>16.20</td>\n",
       "      <td>16.2</td>\n",
       "    </tr>\n",
       "    <tr>\n",
       "      <th>3</th>\n",
       "      <td>Изменить структура категорий, что увеличит конверсию, т.к. пользователи быстрее найдут нужный товар</td>\n",
       "      <td>8</td>\n",
       "      <td>3</td>\n",
       "      <td>3</td>\n",
       "      <td>8</td>\n",
       "      <td>1.12</td>\n",
       "      <td>9.0</td>\n",
       "    </tr>\n",
       "    <tr>\n",
       "      <th>1</th>\n",
       "      <td>Запустить собственную службу доставки, что сократит срок доставки заказов</td>\n",
       "      <td>2</td>\n",
       "      <td>5</td>\n",
       "      <td>4</td>\n",
       "      <td>10</td>\n",
       "      <td>2.00</td>\n",
       "      <td>4.0</td>\n",
       "    </tr>\n",
       "    <tr>\n",
       "      <th>5</th>\n",
       "      <td>Добавить страницу отзывов клиентов о магазине, что позволит увеличить количество заказов</td>\n",
       "      <td>3</td>\n",
       "      <td>2</td>\n",
       "      <td>2</td>\n",
       "      <td>3</td>\n",
       "      <td>1.33</td>\n",
       "      <td>4.0</td>\n",
       "    </tr>\n",
       "    <tr>\n",
       "      <th>4</th>\n",
       "      <td>Изменить цвет фона главной страницы, чтобы увеличить вовлеченность пользователей</td>\n",
       "      <td>3</td>\n",
       "      <td>1</td>\n",
       "      <td>1</td>\n",
       "      <td>1</td>\n",
       "      <td>1.00</td>\n",
       "      <td>3.0</td>\n",
       "    </tr>\n",
       "  </tbody>\n",
       "</table>\n",
       "</div>"
      ],
      "text/plain": [
       "                                                                                                     Hypothesis  \\\n",
       "7              Добавить форму подписки на все основные страницы, чтобы собрать базу клиентов для email-рассылок   \n",
       "2  Добавить блоки рекомендаций товаров на сайт интернет магазина, чтобы повысить конверсию и средний чек заказа   \n",
       "0            Добавить два новых канала привлечения трафика, что позволит привлекать на 30% больше пользователей   \n",
       "6          Показать на главной странице баннеры с актуальными акциями и распродажами, чтобы увеличить конверсию   \n",
       "8                                                       Запустить акцию, дающую скидку на товар в день рождения   \n",
       "3           Изменить структура категорий, что увеличит конверсию, т.к. пользователи быстрее найдут нужный товар   \n",
       "1                                     Запустить собственную службу доставки, что сократит срок доставки заказов   \n",
       "5                      Добавить страницу отзывов клиентов о магазине, что позволит увеличить количество заказов   \n",
       "4                              Изменить цвет фона главной страницы, чтобы увеличить вовлеченность пользователей   \n",
       "\n",
       "   Reach  Impact  Confidence  Efforts    ICE   RICE  \n",
       "7     10       7           8        5  11.20  112.0  \n",
       "2      8       3           7        3   7.00   56.0  \n",
       "0      3      10           8        6  13.33   40.0  \n",
       "6      5       3           8        3   8.00   40.0  \n",
       "8      1       9           9        5  16.20   16.2  \n",
       "3      8       3           3        8   1.12    9.0  \n",
       "1      2       5           4       10   2.00    4.0  \n",
       "5      3       2           2        3   1.33    4.0  \n",
       "4      3       1           1        1   1.00    3.0  "
      ]
     },
     "execution_count": 255,
     "metadata": {},
     "output_type": "execute_result"
    }
   ],
   "source": [
    "data['RICE'] = ((data['Reach'] * data['Impact'] * data['Confidence']) / data['Efforts']).round(2)\n",
    "pd.options.display.max_colwidth = 130\n",
    "data.sort_values('RICE', ascending=False)"
   ]
  },
  {
   "cell_type": "markdown",
   "metadata": {},
   "source": [
    "При использовании метода приоритизации RICE практически все гипотезы поменяли свое положение по сравнению с методом ICE. Все дело в том, что метод RICE добавляет переменную, отображающую охват пользователей, которых затронет данное изменение. Таким образом, например, гипотеза о запуске акции (под номером 8), которая находилась на вершине списка по методу приоритизации ICE из-за высокого влияния и высокой уверенности при средних затратах, опустилась на пятую позицию по методу RICE, поскольку охват пользователей, которых затронет данное нововведение, был оценен в 1 балл."
   ]
  },
  {
   "cell_type": "markdown",
   "metadata": {},
   "source": [
    "# Часть 2. Анализ A/B-теста"
   ]
  },
  {
   "cell_type": "code",
   "execution_count": 256,
   "metadata": {},
   "outputs": [],
   "source": [
    "orders = pd.read_csv('/datasets/orders.csv')\n",
    "visitors = pd.read_csv('/datasets/visitors.csv')"
   ]
  },
  {
   "cell_type": "code",
   "execution_count": 257,
   "metadata": {},
   "outputs": [
    {
     "data": {
      "text/html": [
       "<div>\n",
       "<style scoped>\n",
       "    .dataframe tbody tr th:only-of-type {\n",
       "        vertical-align: middle;\n",
       "    }\n",
       "\n",
       "    .dataframe tbody tr th {\n",
       "        vertical-align: top;\n",
       "    }\n",
       "\n",
       "    .dataframe thead th {\n",
       "        text-align: right;\n",
       "    }\n",
       "</style>\n",
       "<table border=\"1\" class=\"dataframe\">\n",
       "  <thead>\n",
       "    <tr style=\"text-align: right;\">\n",
       "      <th></th>\n",
       "      <th>transactionId</th>\n",
       "      <th>visitorId</th>\n",
       "      <th>date</th>\n",
       "      <th>revenue</th>\n",
       "      <th>group</th>\n",
       "    </tr>\n",
       "  </thead>\n",
       "  <tbody>\n",
       "    <tr>\n",
       "      <th>0</th>\n",
       "      <td>3667963787</td>\n",
       "      <td>3312258926</td>\n",
       "      <td>2019-08-15</td>\n",
       "      <td>1650</td>\n",
       "      <td>B</td>\n",
       "    </tr>\n",
       "    <tr>\n",
       "      <th>1</th>\n",
       "      <td>2804400009</td>\n",
       "      <td>3642806036</td>\n",
       "      <td>2019-08-15</td>\n",
       "      <td>730</td>\n",
       "      <td>B</td>\n",
       "    </tr>\n",
       "    <tr>\n",
       "      <th>2</th>\n",
       "      <td>2961555356</td>\n",
       "      <td>4069496402</td>\n",
       "      <td>2019-08-15</td>\n",
       "      <td>400</td>\n",
       "      <td>A</td>\n",
       "    </tr>\n",
       "    <tr>\n",
       "      <th>3</th>\n",
       "      <td>3797467345</td>\n",
       "      <td>1196621759</td>\n",
       "      <td>2019-08-15</td>\n",
       "      <td>9759</td>\n",
       "      <td>B</td>\n",
       "    </tr>\n",
       "    <tr>\n",
       "      <th>4</th>\n",
       "      <td>2282983706</td>\n",
       "      <td>2322279887</td>\n",
       "      <td>2019-08-15</td>\n",
       "      <td>2308</td>\n",
       "      <td>B</td>\n",
       "    </tr>\n",
       "    <tr>\n",
       "      <th>...</th>\n",
       "      <td>...</td>\n",
       "      <td>...</td>\n",
       "      <td>...</td>\n",
       "      <td>...</td>\n",
       "      <td>...</td>\n",
       "    </tr>\n",
       "    <tr>\n",
       "      <th>1192</th>\n",
       "      <td>2662137336</td>\n",
       "      <td>3733762160</td>\n",
       "      <td>2019-08-14</td>\n",
       "      <td>6490</td>\n",
       "      <td>B</td>\n",
       "    </tr>\n",
       "    <tr>\n",
       "      <th>1193</th>\n",
       "      <td>2203539145</td>\n",
       "      <td>370388673</td>\n",
       "      <td>2019-08-14</td>\n",
       "      <td>3190</td>\n",
       "      <td>A</td>\n",
       "    </tr>\n",
       "    <tr>\n",
       "      <th>1194</th>\n",
       "      <td>1807773912</td>\n",
       "      <td>573423106</td>\n",
       "      <td>2019-08-14</td>\n",
       "      <td>10550</td>\n",
       "      <td>A</td>\n",
       "    </tr>\n",
       "    <tr>\n",
       "      <th>1195</th>\n",
       "      <td>1947021204</td>\n",
       "      <td>1614305549</td>\n",
       "      <td>2019-08-14</td>\n",
       "      <td>100</td>\n",
       "      <td>A</td>\n",
       "    </tr>\n",
       "    <tr>\n",
       "      <th>1196</th>\n",
       "      <td>3936777065</td>\n",
       "      <td>2108080724</td>\n",
       "      <td>2019-08-15</td>\n",
       "      <td>202740</td>\n",
       "      <td>B</td>\n",
       "    </tr>\n",
       "  </tbody>\n",
       "</table>\n",
       "<p>1197 rows × 5 columns</p>\n",
       "</div>"
      ],
      "text/plain": [
       "      transactionId   visitorId        date  revenue group\n",
       "0        3667963787  3312258926  2019-08-15     1650     B\n",
       "1        2804400009  3642806036  2019-08-15      730     B\n",
       "2        2961555356  4069496402  2019-08-15      400     A\n",
       "3        3797467345  1196621759  2019-08-15     9759     B\n",
       "4        2282983706  2322279887  2019-08-15     2308     B\n",
       "...             ...         ...         ...      ...   ...\n",
       "1192     2662137336  3733762160  2019-08-14     6490     B\n",
       "1193     2203539145   370388673  2019-08-14     3190     A\n",
       "1194     1807773912   573423106  2019-08-14    10550     A\n",
       "1195     1947021204  1614305549  2019-08-14      100     A\n",
       "1196     3936777065  2108080724  2019-08-15   202740     B\n",
       "\n",
       "[1197 rows x 5 columns]"
      ]
     },
     "execution_count": 257,
     "metadata": {},
     "output_type": "execute_result"
    }
   ],
   "source": [
    "orders"
   ]
  },
  {
   "cell_type": "code",
   "execution_count": 258,
   "metadata": {},
   "outputs": [],
   "source": [
    "orders.columns = ['transaction_id', 'visitor_id', 'date', 'revenue', 'group'] # переименовываем столбцы в принятый формат"
   ]
  },
  {
   "cell_type": "code",
   "execution_count": 259,
   "metadata": {},
   "outputs": [
    {
     "data": {
      "text/plain": [
       "0"
      ]
     },
     "execution_count": 259,
     "metadata": {},
     "output_type": "execute_result"
    }
   ],
   "source": [
    "orders.duplicated().sum() # проверяем на наличие дубликатов"
   ]
  },
  {
   "cell_type": "code",
   "execution_count": 260,
   "metadata": {},
   "outputs": [],
   "source": [
    "orders['date'] = pd.to_datetime(orders['date'], format= '%Y-%m-%d') # приводим к формату время"
   ]
  },
  {
   "cell_type": "code",
   "execution_count": 261,
   "metadata": {},
   "outputs": [
    {
     "data": {
      "text/html": [
       "<div>\n",
       "<style scoped>\n",
       "    .dataframe tbody tr th:only-of-type {\n",
       "        vertical-align: middle;\n",
       "    }\n",
       "\n",
       "    .dataframe tbody tr th {\n",
       "        vertical-align: top;\n",
       "    }\n",
       "\n",
       "    .dataframe thead th {\n",
       "        text-align: right;\n",
       "    }\n",
       "</style>\n",
       "<table border=\"1\" class=\"dataframe\">\n",
       "  <thead>\n",
       "    <tr style=\"text-align: right;\">\n",
       "      <th></th>\n",
       "      <th>date</th>\n",
       "      <th>group</th>\n",
       "      <th>visitors</th>\n",
       "    </tr>\n",
       "  </thead>\n",
       "  <tbody>\n",
       "    <tr>\n",
       "      <th>0</th>\n",
       "      <td>2019-08-01</td>\n",
       "      <td>A</td>\n",
       "      <td>719</td>\n",
       "    </tr>\n",
       "    <tr>\n",
       "      <th>1</th>\n",
       "      <td>2019-08-02</td>\n",
       "      <td>A</td>\n",
       "      <td>619</td>\n",
       "    </tr>\n",
       "    <tr>\n",
       "      <th>2</th>\n",
       "      <td>2019-08-03</td>\n",
       "      <td>A</td>\n",
       "      <td>507</td>\n",
       "    </tr>\n",
       "    <tr>\n",
       "      <th>3</th>\n",
       "      <td>2019-08-04</td>\n",
       "      <td>A</td>\n",
       "      <td>717</td>\n",
       "    </tr>\n",
       "    <tr>\n",
       "      <th>4</th>\n",
       "      <td>2019-08-05</td>\n",
       "      <td>A</td>\n",
       "      <td>756</td>\n",
       "    </tr>\n",
       "    <tr>\n",
       "      <th>...</th>\n",
       "      <td>...</td>\n",
       "      <td>...</td>\n",
       "      <td>...</td>\n",
       "    </tr>\n",
       "    <tr>\n",
       "      <th>57</th>\n",
       "      <td>2019-08-27</td>\n",
       "      <td>B</td>\n",
       "      <td>720</td>\n",
       "    </tr>\n",
       "    <tr>\n",
       "      <th>58</th>\n",
       "      <td>2019-08-28</td>\n",
       "      <td>B</td>\n",
       "      <td>654</td>\n",
       "    </tr>\n",
       "    <tr>\n",
       "      <th>59</th>\n",
       "      <td>2019-08-29</td>\n",
       "      <td>B</td>\n",
       "      <td>531</td>\n",
       "    </tr>\n",
       "    <tr>\n",
       "      <th>60</th>\n",
       "      <td>2019-08-30</td>\n",
       "      <td>B</td>\n",
       "      <td>490</td>\n",
       "    </tr>\n",
       "    <tr>\n",
       "      <th>61</th>\n",
       "      <td>2019-08-31</td>\n",
       "      <td>B</td>\n",
       "      <td>718</td>\n",
       "    </tr>\n",
       "  </tbody>\n",
       "</table>\n",
       "<p>62 rows × 3 columns</p>\n",
       "</div>"
      ],
      "text/plain": [
       "          date group  visitors\n",
       "0   2019-08-01     A       719\n",
       "1   2019-08-02     A       619\n",
       "2   2019-08-03     A       507\n",
       "3   2019-08-04     A       717\n",
       "4   2019-08-05     A       756\n",
       "..         ...   ...       ...\n",
       "57  2019-08-27     B       720\n",
       "58  2019-08-28     B       654\n",
       "59  2019-08-29     B       531\n",
       "60  2019-08-30     B       490\n",
       "61  2019-08-31     B       718\n",
       "\n",
       "[62 rows x 3 columns]"
      ]
     },
     "execution_count": 261,
     "metadata": {},
     "output_type": "execute_result"
    }
   ],
   "source": [
    "visitors"
   ]
  },
  {
   "cell_type": "code",
   "execution_count": 262,
   "metadata": {},
   "outputs": [],
   "source": [
    "visitors['date'] = pd.to_datetime(visitors['date'], format= '%Y-%m-%d')"
   ]
  },
  {
   "cell_type": "code",
   "execution_count": 263,
   "metadata": {},
   "outputs": [
    {
     "name": "stdout",
     "output_type": "stream",
     "text": [
      "['B' 'A']\n",
      "['A' 'B']\n"
     ]
    }
   ],
   "source": [
    "print(orders['group'].unique()) # Проверяем количество групп в А/В-тесте\n",
    "print(visitors['group'].unique())"
   ]
  },
  {
   "cell_type": "markdown",
   "metadata": {},
   "source": [
    "В тесте принимают участие всего две группы"
   ]
  },
  {
   "cell_type": "code",
   "execution_count": 264,
   "metadata": {},
   "outputs": [
    {
     "name": "stdout",
     "output_type": "stream",
     "text": [
      "2019-08-01 00:00:00\n",
      "2019-08-31 00:00:00\n",
      "2019-08-01 00:00:00\n",
      "2019-08-31 00:00:00\n"
     ]
    }
   ],
   "source": [
    "print(orders['date'].min()) # Изучаем временной интервал теста\n",
    "print(orders['date'].max())\n",
    "print(visitors['date'].min())\n",
    "print(visitors['date'].max())"
   ]
  },
  {
   "cell_type": "markdown",
   "metadata": {},
   "source": [
    "Временные рамки исследования - ровно месяц (август 2019 года)"
   ]
  },
  {
   "cell_type": "code",
   "execution_count": 265,
   "metadata": {},
   "outputs": [
    {
     "name": "stdout",
     "output_type": "stream",
     "text": [
      "group\n",
      "A    557\n",
      "B    640\n",
      "Name: visitor_id, dtype: int64\n",
      "group\n",
      "A    18736\n",
      "B    18916\n",
      "Name: visitors, dtype: int64\n"
     ]
    }
   ],
   "source": [
    "print(orders.groupby('group')['visitor_id'].count())\n",
    "print(visitors.groupby('group')['visitors'].sum())"
   ]
  },
  {
   "cell_type": "markdown",
   "metadata": {},
   "source": [
    "Количество посетителей в двух группах приблизительно одинаковое, однако уже на лицо более высокая конверсия в группе В. Изучим это подробнее в основной части исследования"
   ]
  },
  {
   "cell_type": "code",
   "execution_count": 266,
   "metadata": {},
   "outputs": [
    {
     "data": {
      "image/png": "[encoded data removed]",
      "text/plain": [
       "<Figure size 720x288 with 1 Axes>"
      ]
     },
     "metadata": {
      "needs_background": "light"
     },
     "output_type": "display_data"
    }
   ],
   "source": [
    "plt.figure(figsize=(10, 4))\n",
    "plt.plot(visitors.query('group == \"A\"')['date'], visitors.query('group == \"A\"')['visitors'], label='A')\n",
    "plt.plot(visitors.query('group == \"B\"')['date'], visitors.query('group == \"B\"')['visitors'], label='B')\n",
    "plt.legend()\n",
    "plt.title('Количество посетителей по дням и группам')\n",
    "plt.ylabel('Количество посетителей')\n",
    "plt.xlabel('Дата');"
   ]
  },
  {
   "cell_type": "markdown",
   "metadata": {},
   "source": [
    "Посетители в двух группах распределены по дням схожим образом, а их количесво зависит от дня недели"
   ]
  },
  {
   "cell_type": "markdown",
   "metadata": {},
   "source": [
    "## График кумулятивной выручки по группам."
   ]
  },
  {
   "cell_type": "code",
   "execution_count": 267,
   "metadata": {},
   "outputs": [
    {
     "data": {
      "text/html": [
       "<div>\n",
       "<style scoped>\n",
       "    .dataframe tbody tr th:only-of-type {\n",
       "        vertical-align: middle;\n",
       "    }\n",
       "\n",
       "    .dataframe tbody tr th {\n",
       "        vertical-align: top;\n",
       "    }\n",
       "\n",
       "    .dataframe thead th {\n",
       "        text-align: right;\n",
       "    }\n",
       "</style>\n",
       "<table border=\"1\" class=\"dataframe\">\n",
       "  <thead>\n",
       "    <tr style=\"text-align: right;\">\n",
       "      <th></th>\n",
       "      <th>date</th>\n",
       "      <th>group</th>\n",
       "      <th>orders</th>\n",
       "      <th>buyers</th>\n",
       "      <th>revenue</th>\n",
       "      <th>visitors</th>\n",
       "    </tr>\n",
       "  </thead>\n",
       "  <tbody>\n",
       "    <tr>\n",
       "      <th>0</th>\n",
       "      <td>2019-08-01</td>\n",
       "      <td>A</td>\n",
       "      <td>24</td>\n",
       "      <td>20</td>\n",
       "      <td>148579</td>\n",
       "      <td>719</td>\n",
       "    </tr>\n",
       "    <tr>\n",
       "      <th>1</th>\n",
       "      <td>2019-08-01</td>\n",
       "      <td>B</td>\n",
       "      <td>21</td>\n",
       "      <td>20</td>\n",
       "      <td>101217</td>\n",
       "      <td>713</td>\n",
       "    </tr>\n",
       "    <tr>\n",
       "      <th>2</th>\n",
       "      <td>2019-08-02</td>\n",
       "      <td>A</td>\n",
       "      <td>44</td>\n",
       "      <td>38</td>\n",
       "      <td>242401</td>\n",
       "      <td>1338</td>\n",
       "    </tr>\n",
       "    <tr>\n",
       "      <th>3</th>\n",
       "      <td>2019-08-02</td>\n",
       "      <td>B</td>\n",
       "      <td>45</td>\n",
       "      <td>43</td>\n",
       "      <td>266748</td>\n",
       "      <td>1294</td>\n",
       "    </tr>\n",
       "    <tr>\n",
       "      <th>4</th>\n",
       "      <td>2019-08-03</td>\n",
       "      <td>A</td>\n",
       "      <td>68</td>\n",
       "      <td>62</td>\n",
       "      <td>354874</td>\n",
       "      <td>1845</td>\n",
       "    </tr>\n",
       "    <tr>\n",
       "      <th>...</th>\n",
       "      <td>...</td>\n",
       "      <td>...</td>\n",
       "      <td>...</td>\n",
       "      <td>...</td>\n",
       "      <td>...</td>\n",
       "      <td>...</td>\n",
       "    </tr>\n",
       "    <tr>\n",
       "      <th>57</th>\n",
       "      <td>2019-08-29</td>\n",
       "      <td>B</td>\n",
       "      <td>596</td>\n",
       "      <td>544</td>\n",
       "      <td>5559398</td>\n",
       "      <td>17708</td>\n",
       "    </tr>\n",
       "    <tr>\n",
       "      <th>58</th>\n",
       "      <td>2019-08-30</td>\n",
       "      <td>A</td>\n",
       "      <td>545</td>\n",
       "      <td>493</td>\n",
       "      <td>4022970</td>\n",
       "      <td>18037</td>\n",
       "    </tr>\n",
       "    <tr>\n",
       "      <th>59</th>\n",
       "      <td>2019-08-30</td>\n",
       "      <td>B</td>\n",
       "      <td>620</td>\n",
       "      <td>567</td>\n",
       "      <td>5774631</td>\n",
       "      <td>18198</td>\n",
       "    </tr>\n",
       "    <tr>\n",
       "      <th>60</th>\n",
       "      <td>2019-08-31</td>\n",
       "      <td>A</td>\n",
       "      <td>557</td>\n",
       "      <td>503</td>\n",
       "      <td>4084803</td>\n",
       "      <td>18736</td>\n",
       "    </tr>\n",
       "    <tr>\n",
       "      <th>61</th>\n",
       "      <td>2019-08-31</td>\n",
       "      <td>B</td>\n",
       "      <td>640</td>\n",
       "      <td>586</td>\n",
       "      <td>5907760</td>\n",
       "      <td>18916</td>\n",
       "    </tr>\n",
       "  </tbody>\n",
       "</table>\n",
       "<p>62 rows × 6 columns</p>\n",
       "</div>"
      ],
      "text/plain": [
       "         date group  orders  buyers  revenue  visitors\n",
       "0  2019-08-01     A      24      20   148579       719\n",
       "1  2019-08-01     B      21      20   101217       713\n",
       "2  2019-08-02     A      44      38   242401      1338\n",
       "3  2019-08-02     B      45      43   266748      1294\n",
       "4  2019-08-03     A      68      62   354874      1845\n",
       "..        ...   ...     ...     ...      ...       ...\n",
       "57 2019-08-29     B     596     544  5559398     17708\n",
       "58 2019-08-30     A     545     493  4022970     18037\n",
       "59 2019-08-30     B     620     567  5774631     18198\n",
       "60 2019-08-31     A     557     503  4084803     18736\n",
       "61 2019-08-31     B     640     586  5907760     18916\n",
       "\n",
       "[62 rows x 6 columns]"
      ]
     },
     "execution_count": 267,
     "metadata": {},
     "output_type": "execute_result"
    }
   ],
   "source": [
    "# создаем массив уникальных пар значений дат и групп теста\n",
    "datesGroups = orders[['date','group']].drop_duplicates()\n",
    "\n",
    "# получаем агрегированные кумулятивные по дням данные о заказах \n",
    "ordersAggregated = datesGroups.apply(lambda x: orders[np.logical_and(orders['date'] <= x['date'],\n",
    "                   orders['group'] == x['group'])].agg({'date' : 'max', 'group' : 'max', 'transaction_id' : 'nunique',\n",
    "                    'visitor_id' : 'nunique', 'revenue' : 'sum'}), axis=1).sort_values(by=['date','group'])\n",
    "\n",
    "# получаем агрегированные кумулятивные по дням данные о посетителях интернет-магазина\n",
    "visitorsAggregated = datesGroups.apply(lambda x: visitors[np.logical_and(visitors['date'] <= x['date'], \n",
    "                     visitors['group'] == x['group'])].agg({'date' : 'max', 'group' : 'max', 'visitors' : 'sum'}), \n",
    "                     axis=1).sort_values(by=['date','group'])\n",
    "\n",
    "# объединяем кумулятивные данные в одной таблице и присваиваем ее столбцам понятные названия\n",
    "cumulativeData = ordersAggregated.merge(visitorsAggregated, left_on=['date', 'group'], right_on=['date', 'group'])\n",
    "cumulativeData.columns = ['date', 'group', 'orders', 'buyers', 'revenue', 'visitors']\n",
    "\n",
    "cumulativeData"
   ]
  },
  {
   "cell_type": "code",
   "execution_count": 268,
   "metadata": {},
   "outputs": [
    {
     "data": {
      "image/png": "[encoded data removed]",
      "text/plain": [
       "<Figure size 720x360 with 1 Axes>"
      ]
     },
     "metadata": {
      "needs_background": "light"
     },
     "output_type": "display_data"
    }
   ],
   "source": [
    "# датафрейм с кумулятивным количеством заказов и кумулятивной выручкой по дням в группе А\n",
    "cumulativeRevenueA = cumulativeData[cumulativeData['group']=='A'][['date','revenue', 'orders']]\n",
    "\n",
    "# датафрейм с кумулятивным количеством заказов и кумулятивной выручкой по дням в группе B\n",
    "cumulativeRevenueB = cumulativeData[cumulativeData['group']=='B'][['date','revenue', 'orders']]\n",
    "\n",
    "plt.figure(figsize=(10, 5))\n",
    "# Строим график выручки группы А\n",
    "plt.plot(cumulativeRevenueA['date'], cumulativeRevenueA['revenue'], label='A')\n",
    "\n",
    "# Строим график выручки группы B\n",
    "plt.plot(cumulativeRevenueB['date'], cumulativeRevenueB['revenue'], label='B')\n",
    "\n",
    "plt.legend()\n",
    "plt.ylabel('Кумулятивная выручка в млн.')\n",
    "plt.xlabel('Дата')\n",
    "plt.title('Кумулятивная выручка по дням в группах А и В')\n",
    "plt.show()"
   ]
  },
  {
   "cell_type": "markdown",
   "metadata": {},
   "source": [
    "На графике мы видим, что группа В показывает более хорошие результаты, однако резкий скачок 19-го августа заставляет нас задуматься над репрезентативностью данного графика, поскольку на него, скорее всего, повлиял резкий выброс - один или несколько крупных заказов, либо резкий всплеск количества заказов."
   ]
  },
  {
   "cell_type": "markdown",
   "metadata": {},
   "source": [
    "## График кумулятивного среднего чека по группам."
   ]
  },
  {
   "cell_type": "code",
   "execution_count": 269,
   "metadata": {},
   "outputs": [
    {
     "data": {
      "image/png": "[encoded data removed]",
      "text/plain": [
       "<Figure size 720x360 with 1 Axes>"
      ]
     },
     "metadata": {
      "needs_background": "light"
     },
     "output_type": "display_data"
    }
   ],
   "source": [
    "plt.figure(figsize=(10, 5))\n",
    "plt.plot(cumulativeRevenueA['date'], cumulativeRevenueA['revenue']/cumulativeRevenueA['orders'], label='A')\n",
    "plt.plot(cumulativeRevenueB['date'], cumulativeRevenueB['revenue']/cumulativeRevenueB['orders'], label='B')\n",
    "plt.legend()\n",
    "plt.ylabel('Средний чек')\n",
    "plt.xlabel('Дата')\n",
    "plt.title('Кумулятивный средний чек по дням в группах А и В')\n",
    "plt.show()"
   ]
  },
  {
   "cell_type": "markdown",
   "metadata": {},
   "source": [
    "Наше предположение о влиянии внезапных крупных заказов 19-го августа на группу В подтвердился, наблюдается резкий скачок с 7000 до 10000, что явственно демонстрирует нам, что на кумулятивную выручку и средний чек повлиял непредсказуемый выброс. \\\n",
    "В первую половину месяца средний чек меняется скачкообразно, а группы А и В приодически перехватывают лидерство друг у друга. Ситуация должна стабилизироваться к концу месяца, но тот самый выброс в граппе В не позволяет нам на данный момент сделать какой-либо корректный вывод."
   ]
  },
  {
   "cell_type": "markdown",
   "metadata": {},
   "source": [
    "## График относительного изменения кумулятивного среднего чека группы B к группе A. "
   ]
  },
  {
   "cell_type": "code",
   "execution_count": 270,
   "metadata": {},
   "outputs": [
    {
     "data": {
      "image/png": "[encoded data removed]",
      "text/plain": [
       "<Figure size 720x360 with 1 Axes>"
      ]
     },
     "metadata": {
      "needs_background": "light"
     },
     "output_type": "display_data"
    }
   ],
   "source": [
    "# собираем данные в одном датафрейме\n",
    "mergedCumulativeRevenue = cumulativeRevenueA.merge(cumulativeRevenueB, left_on='date', right_on='date', how='left', suffixes=['A', 'B'])\n",
    "\n",
    "plt.figure(figsize=(10, 5))\n",
    "# cтроим отношение средних чеков\n",
    "plt.plot(mergedCumulativeRevenue['date'], (mergedCumulativeRevenue['revenueB']/mergedCumulativeRevenue['ordersB'])/(mergedCumulativeRevenue['revenueA']/mergedCumulativeRevenue['ordersA'])-1)\n",
    "\n",
    "# добавляем ось X\n",
    "plt.axhline(y=0, color='black', linestyle='--')\n",
    "plt.title('Относительное изменение кумулятивного среднего чека группы В к группе А');"
   ]
  },
  {
   "cell_type": "markdown",
   "metadata": {},
   "source": [
    "В целом группа В показывает более хорошие результаты по сравнению с группой А, однако, как говорилось выше, скачкообразный характер графика не позволяет нам в полной мере доверять ему"
   ]
  },
  {
   "cell_type": "markdown",
   "metadata": {},
   "source": [
    "## График кумулятивного среднего количества заказов на посетителя по группам."
   ]
  },
  {
   "cell_type": "code",
   "execution_count": 271,
   "metadata": {},
   "outputs": [
    {
     "data": {
      "image/png": "[encoded data removed]",
      "text/plain": [
       "<Figure size 720x360 with 1 Axes>"
      ]
     },
     "metadata": {
      "needs_background": "light"
     },
     "output_type": "display_data"
    }
   ],
   "source": [
    "# датафрейм с кумулятивным количеством заказов и кумулятивной выручкой по дням в группе А\n",
    "cumulativeVisitorsA = cumulativeData[cumulativeData['group']=='A'][['date','visitors', 'orders']]\n",
    "\n",
    "# датафрейм с кумулятивным количеством заказов и кумулятивной выручкой по дням в группе B\n",
    "cumulativeVisitorsB = cumulativeData[cumulativeData['group']=='B'][['date','visitors', 'orders']]\n",
    "\n",
    "plt.figure(figsize=(10, 5))\n",
    "plt.plot(cumulativeVisitorsA['date'], cumulativeVisitorsA['orders']/cumulativeVisitorsA['visitors'], label='A')\n",
    "plt.plot(cumulativeVisitorsB['date'], cumulativeVisitorsB['orders']/cumulativeVisitorsB['visitors'], label='B')\n",
    "plt.legend()\n",
    "plt.ylabel('Среднее количество заказов на посетителя')\n",
    "plt.xlabel('Дата')\n",
    "plt.title('Кумулятивное среднее количество заказов на посетителя по дням в группах А и В')\n",
    "plt.show()"
   ]
  },
  {
   "cell_type": "markdown",
   "metadata": {},
   "source": [
    "Кумулятивное среднее количество заказов на посетителя (что, по сути, является конверсией), в группе В существенно и стабильно выше, чем в группе А. Хоть в абсолютных значениях разница невелика (3,4 % в группе В против 3 % в группе А), но по отношению друг к другу группа В лидирует. Причем резских скачков в районе 19-го августа не наблюдается, что убеждает нас в мысли, что всплеск выручки и среднего чека заключался именно в нескольких аномально крупных заказах, а не в резком увеличении их количества"
   ]
  },
  {
   "cell_type": "markdown",
   "metadata": {},
   "source": [
    "## График относительного изменения кумулятивного среднего количества заказов на посетителя группы B к группе A."
   ]
  },
  {
   "cell_type": "code",
   "execution_count": 272,
   "metadata": {},
   "outputs": [
    {
     "data": {
      "image/png": "[encoded data removed]",
      "text/plain": [
       "<Figure size 720x360 with 1 Axes>"
      ]
     },
     "metadata": {
      "needs_background": "light"
     },
     "output_type": "display_data"
    }
   ],
   "source": [
    "# собираем данные в одном датафрейме\n",
    "mergedCumulativeVisitors = cumulativeVisitorsA.merge(cumulativeVisitorsB, left_on='date', right_on='date', how='left', suffixes=['A', 'B'])\n",
    "\n",
    "plt.figure(figsize=(10, 5))\n",
    "# cтроим отношение средних чеков\n",
    "plt.plot(mergedCumulativeVisitors['date'], (mergedCumulativeVisitors['ordersB']/mergedCumulativeVisitors['visitorsB'])/(mergedCumulativeVisitors['ordersA']/mergedCumulativeVisitors['visitorsA'])-1)\n",
    "\n",
    "# добавляем ось X\n",
    "plt.axhline(y=0, color='black', linestyle='--')\n",
    "plt.title('Относительное изменение кумулятивного среднего количества заказов на посетителя группы В к группе А');"
   ]
  },
  {
   "cell_type": "markdown",
   "metadata": {},
   "source": [
    "Как и обозначалось выше, кумулятивное среднее количество заказов на посетителя (кумулятивная конверсия) группы В выше в среднем на 15%"
   ]
  },
  {
   "cell_type": "markdown",
   "metadata": {},
   "source": [
    "## Точечный график количества заказов по пользователям."
   ]
  },
  {
   "cell_type": "code",
   "execution_count": 273,
   "metadata": {},
   "outputs": [
    {
     "data": {
      "image/png": "[encoded data removed]",
      "text/plain": [
       "<Figure size 432x288 with 1 Axes>"
      ]
     },
     "metadata": {
      "needs_background": "light"
     },
     "output_type": "display_data"
    }
   ],
   "source": [
    "orders_per_visitor = (\n",
    "    orders.groupby('visitor_id', as_index=False)\n",
    "    .agg({'transaction_id': 'nunique'})\n",
    ")\n",
    "\n",
    "plt.hist(orders_per_visitor['transaction_id']) \n",
    "plt.title('Количество заказов по пользователям')\n",
    "plt.ylabel('Количество пользователей')\n",
    "plt.xlabel('Количество заказов');"
   ]
  },
  {
   "cell_type": "code",
   "execution_count": 274,
   "metadata": {},
   "outputs": [
    {
     "data": {
      "image/png": "[encoded data removed]",
      "text/plain": [
       "<Figure size 432x288 with 1 Axes>"
      ]
     },
     "metadata": {
      "needs_background": "light"
     },
     "output_type": "display_data"
    }
   ],
   "source": [
    "x_values = pd.Series(range(len(orders_per_visitor)))\n",
    "plt.scatter(x_values, orders_per_visitor['transaction_id']) \n",
    "plt.title('Количество заказов по пользователям')\n",
    "plt.ylabel('Количество заказов')\n",
    "plt.xlabel('Пользователи');"
   ]
  },
  {
   "cell_type": "markdown",
   "metadata": {},
   "source": [
    "Как мы видим, у подавляющего количества пользователей по одному заказу, реже 2-3. Пользователи, у которых больше трех заказов - практически единичные случаи"
   ]
  },
  {
   "cell_type": "markdown",
   "metadata": {},
   "source": [
    "## 95-й и 99-й перцентили количества заказов на пользователя."
   ]
  },
  {
   "cell_type": "code",
   "execution_count": 275,
   "metadata": {},
   "outputs": [
    {
     "name": "stdout",
     "output_type": "stream",
     "text": [
      "[2. 4.]\n"
     ]
    }
   ],
   "source": [
    "print(np.percentile(orders_per_visitor['transaction_id'], [95, 99])) "
   ]
  },
  {
   "cell_type": "markdown",
   "metadata": {},
   "source": [
    "Не более 5% пользователей имеют больше 2 заказов, и не более 1% пользователей имеют больше 4 заказов. \\\n",
    "Мы выберем границу аномальных пользователей 95-го перцентиля, поскольку доля пользователей с 3 и более заказами составляет менее 5%. Пользователи, совершившие много заказов, влияют на числитель формулы конверсии. Скорее всего, их поведение отличается от нормального. Если речь не идёт об интернет-магазине с регулярным спросом, «обычный» пользователь совершает не больше двух заказов за короткий срок. "
   ]
  },
  {
   "cell_type": "markdown",
   "metadata": {},
   "source": [
    "## Точечный график стоимостей заказов."
   ]
  },
  {
   "cell_type": "code",
   "execution_count": 276,
   "metadata": {},
   "outputs": [
    {
     "data": {
      "image/png": "[encoded data removed]",
      "text/plain": [
       "<Figure size 432x288 with 1 Axes>"
      ]
     },
     "metadata": {
      "needs_background": "light"
     },
     "output_type": "display_data"
    }
   ],
   "source": [
    "plt.hist(orders['revenue'])\n",
    "plt.title('Количество пользователей по суммам заказов')\n",
    "plt.ylabel('Количество пользователей')\n",
    "plt.xlabel('Сумма заказа в млн.');"
   ]
  },
  {
   "cell_type": "markdown",
   "metadata": {},
   "source": [
    "Даже по предварительной гистограмме видим, что как минимум один заказ на сумму свыше миллиона рублей смещает график и не дает увидеть его в полной мере. Рассмотрим точечный график стоимостей заказов."
   ]
  },
  {
   "cell_type": "code",
   "execution_count": 277,
   "metadata": {},
   "outputs": [
    {
     "data": {
      "image/png": "[encoded data removed]",
      "text/plain": [
       "<Figure size 432x288 with 1 Axes>"
      ]
     },
     "metadata": {
      "needs_background": "light"
     },
     "output_type": "display_data"
    }
   ],
   "source": [
    "x_values = pd.Series(range(0,len(orders['revenue'])))\n",
    "plt.scatter(x_values, orders['revenue'])\n",
    "plt.title('Сумма заказа на пользователя')\n",
    "plt.ylabel('Сумма заказа в млн.')\n",
    "plt.xlabel('Пользователи');"
   ]
  },
  {
   "cell_type": "markdown",
   "metadata": {},
   "source": [
    "Как и говорилось выше, аномальный заказ более чем на 1,2 млн сместил график. Однако даже так мы видим, что подавляющее большинство заказов - на сумму до 100 тысяч, есть один выброс около 200 тысяч и уже упомянутый выброс на 1,2 миллиона. Скорее всего, это и есть тот самый всплеск, который мы наблюдали в группе В 19-го августа, сместивший линию кумулятивной выручки и среднего чека"
   ]
  },
  {
   "cell_type": "markdown",
   "metadata": {},
   "source": [
    "## 95-й и 99-й перцентили стоимости заказов."
   ]
  },
  {
   "cell_type": "code",
   "execution_count": 278,
   "metadata": {},
   "outputs": [
    {
     "data": {
      "text/plain": [
       "array([28000. , 58233.2])"
      ]
     },
     "execution_count": 278,
     "metadata": {},
     "output_type": "execute_result"
    }
   ],
   "source": [
    "np.percentile(orders['revenue'], [95, 99])"
   ]
  },
  {
   "cell_type": "markdown",
   "metadata": {},
   "source": [
    "Не более 5% заказов были на сумму свыше 28 тысяч и не более 1% заказов были на сумму свыше 58 233. \\\n",
    "В качестве границы для определения аномальных казаов возьмем 99-й перцентиль, поскольку на качество данных в большей степени влияют всего два крупных выброса, заметных на графике, и они уберутся даже при такой границе. Заказы на 58 тысяч вряд ли можно считать выбросами по отношению к заказам на 28 тысяч, поэтому такая граница аномалий нам подходит"
   ]
  },
  {
   "cell_type": "markdown",
   "metadata": {},
   "source": [
    "## Статистическая значимость различий в среднем количестве заказов на посетителя между группами по «сырым» данным."
   ]
  },
  {
   "cell_type": "markdown",
   "metadata": {},
   "source": [
    "Сформулируем гипотезы. \\\n",
    "**Нулевая:** различий в среднем количестве заказов между группами нет. \\\n",
    "**Альтернативная:** различия в среднем между группами есть"
   ]
  },
  {
   "cell_type": "code",
   "execution_count": 279,
   "metadata": {},
   "outputs": [],
   "source": [
    "visitorsADaily = visitors[visitors['group'] == 'A'][['date', 'visitors']]\n",
    "visitorsADaily.columns = ['date', 'visitorsPerDateA']\n",
    "\n",
    "visitorsACummulative = visitorsADaily.apply(\n",
    "    lambda x: visitorsADaily[visitorsADaily['date'] <= x['date']].agg(\n",
    "        {'date': 'max', 'visitorsPerDateA': 'sum'}\n",
    "    ),\n",
    "    axis=1,\n",
    ")\n",
    "visitorsACummulative.columns = ['date', 'visitorsCummulativeA']\n",
    "\n",
    "visitorsBDaily = visitors[visitors['group'] == 'B'][['date', 'visitors']]\n",
    "visitorsBDaily.columns = ['date', 'visitorsPerDateB']\n",
    "\n",
    "visitorsBCummulative = visitorsBDaily.apply(\n",
    "    lambda x: visitorsBDaily[visitorsBDaily['date'] <= x['date']].agg(\n",
    "        {'date': 'max', 'visitorsPerDateB': 'sum'}\n",
    "    ),\n",
    "    axis=1,\n",
    ")\n",
    "visitorsBCummulative.columns = ['date', 'visitorsCummulativeB']\n",
    "\n",
    "ordersADaily = (\n",
    "    orders[orders['group'] == 'A'][['date', 'transaction_id', 'visitor_id', 'revenue']]\n",
    "    .groupby('date', as_index=False)\n",
    "    .agg({'transaction_id': pd.Series.nunique, 'revenue': 'sum'})\n",
    ")\n",
    "ordersADaily.columns = ['date', 'ordersPerDateA', 'revenuePerDateA']\n",
    "\n",
    "ordersACummulative = ordersADaily.apply(\n",
    "    lambda x: ordersADaily[ordersADaily['date'] <= x['date']].agg(\n",
    "        {'date': 'max', 'ordersPerDateA': 'sum', 'revenuePerDateA': 'sum'}\n",
    "    ),\n",
    "    axis=1,\n",
    ").sort_values(by=['date'])\n",
    "ordersACummulative.columns = [\n",
    "    'date',\n",
    "    'ordersCummulativeA',\n",
    "    'revenueCummulativeA',\n",
    "]\n",
    "\n",
    "ordersBDaily = (\n",
    "    orders[orders['group'] == 'B'][['date', 'transaction_id', 'visitor_id', 'revenue']]\n",
    "    .groupby('date', as_index=False)\n",
    "    .agg({'transaction_id': pd.Series.nunique, 'revenue': 'sum'})\n",
    ")\n",
    "ordersBDaily.columns = ['date', 'ordersPerDateB', 'revenuePerDateB']\n",
    "\n",
    "ordersBCummulative = ordersBDaily.apply(\n",
    "    lambda x: ordersBDaily[ordersBDaily['date'] <= x['date']].agg(\n",
    "        {'date': 'max', 'ordersPerDateB': 'sum', 'revenuePerDateB': 'sum'}\n",
    "    ),\n",
    "    axis=1,\n",
    ").sort_values(by=['date'])\n",
    "ordersBCummulative.columns = [\n",
    "    'date',\n",
    "    'ordersCummulativeB',\n",
    "    'revenueCummulativeB',\n",
    "]\n",
    "\n",
    "data = (\n",
    "    ordersADaily.merge(\n",
    "        ordersBDaily, left_on='date', right_on='date', how='left'\n",
    "    )\n",
    "    .merge(ordersACummulative, left_on='date', right_on='date', how='left')\n",
    "    .merge(ordersBCummulative, left_on='date', right_on='date', how='left')\n",
    "    .merge(visitorsADaily, left_on='date', right_on='date', how='left')\n",
    "    .merge(visitorsBDaily, left_on='date', right_on='date', how='left')\n",
    "    .merge(visitorsACummulative, left_on='date', right_on='date', how='left')\n",
    "    .merge(visitorsBCummulative, left_on='date', right_on='date', how='left')\n",
    ")"
   ]
  },
  {
   "cell_type": "code",
   "execution_count": 280,
   "metadata": {},
   "outputs": [],
   "source": [
    "ordersByUsersA = (\n",
    "    orders[orders['group'] == 'A']\n",
    "    .groupby('visitor_id', as_index=False)\n",
    "    .agg({'transaction_id': pd.Series.nunique})\n",
    ")\n",
    "ordersByUsersA.columns = ['userId', 'orders']\n",
    "\n",
    "ordersByUsersB = (\n",
    "    orders[orders['group'] == 'B']\n",
    "    .groupby('visitor_id', as_index=False)\n",
    "    .agg({'transaction_id': pd.Series.nunique})\n",
    ")\n",
    "ordersByUsersB.columns = ['userId', 'orders']"
   ]
  },
  {
   "cell_type": "code",
   "execution_count": 281,
   "metadata": {},
   "outputs": [],
   "source": [
    "sampleA = pd.concat([ordersByUsersA['orders'],pd.Series(0, index=np.arange(data['visitorsPerDateA'].sum() - len(ordersByUsersA['orders'])), name='orders')],axis=0)\n",
    "\n",
    "sampleB = pd.concat([ordersByUsersB['orders'],pd.Series(0, index=np.arange(data['visitorsPerDateB'].sum() - len(ordersByUsersB['orders'])), name='orders')],axis=0)"
   ]
  },
  {
   "cell_type": "code",
   "execution_count": 282,
   "metadata": {},
   "outputs": [
    {
     "name": "stdout",
     "output_type": "stream",
     "text": [
      "p-value: 0.017\n",
      "Разница в средних: 0.138\n"
     ]
    }
   ],
   "source": [
    "print('p-value:', \"{0:.3f}\".format(stats.mannwhitneyu(sampleA, sampleB)[1]))\n",
    "\n",
    "print('Разница в средних:', \"{0:.3f}\".format(sampleB.mean() / sampleA.mean() - 1))"
   ]
  },
  {
   "cell_type": "markdown",
   "metadata": {},
   "source": [
    "По \"сырым\" данным p-value меньше 0,05, что вынуждает нас отвергуть нулевую гипотезу об отсутствии статистически значимых отличий. Относительный \"выигрыш\" группы В составляет 13,8% по сравнению с группой А"
   ]
  },
  {
   "cell_type": "markdown",
   "metadata": {},
   "source": [
    "## Статистическая значимость различий в среднем чеке заказа между группами по «сырым» данным."
   ]
  },
  {
   "cell_type": "markdown",
   "metadata": {},
   "source": [
    "**Нулевая гипотеза:** различий в среднем чеке между группами нет. \\\n",
    "**Альтернативная гипотеза:** различия в среднем чеке между группами есть. "
   ]
  },
  {
   "cell_type": "code",
   "execution_count": 283,
   "metadata": {},
   "outputs": [
    {
     "name": "stdout",
     "output_type": "stream",
     "text": [
      "p-value: 0.729\n",
      "Разница в средних: 0.259\n"
     ]
    }
   ],
   "source": [
    "print('p-value:','{0:.3f}'.format(stats.mannwhitneyu(orders[orders['group']=='A']['revenue'], orders[orders['group']=='B']['revenue'])[1]))\n",
    "print('Разница в средних:','{0:.3f}'.format(orders[orders['group']=='B']['revenue'].mean()/orders[orders['group']=='A']['revenue'].mean()-1))"
   ]
  },
  {
   "cell_type": "markdown",
   "metadata": {},
   "source": [
    "По \"сырым\" данным p-value больше 0,05, поэтому нет оснований отвергать нулевую гипотезу об отсутствии различий в среднем чеке между группами. Однако, относительный выиграш группы В по сравнению с группой А составляет 25,9%. Вероятно, здесь мы и обнаруживаем влияние того самого одного аномального заказа на 1,2 млн."
   ]
  },
  {
   "cell_type": "markdown",
   "metadata": {},
   "source": [
    "## Статистическая значимость различий в среднем количестве заказов на посетителя между группами по «очищенным» данным."
   ]
  },
  {
   "cell_type": "code",
   "execution_count": 284,
   "metadata": {},
   "outputs": [
    {
     "name": "stdout",
     "output_type": "stream",
     "text": [
      "1099    148427295\n",
      "18      199603092\n",
      "23      237748145\n",
      "37      249864742\n",
      "68      457167155\n",
      "dtype: int64\n",
      "31\n"
     ]
    }
   ],
   "source": [
    "usersWithManyOrders = pd.concat(\n",
    "    [\n",
    "        ordersByUsersA[ordersByUsersA['orders'] > np.percentile(orders_per_visitor['transaction_id'], [95])[0]]['userId'],\n",
    "        ordersByUsersB[ordersByUsersB['orders'] > np.percentile(orders_per_visitor['transaction_id'], [95])[0]]['userId'],\n",
    "    ],\n",
    "    axis=0,\n",
    ")\n",
    "usersWithExpensiveOrders = orders[orders['revenue'] > np.percentile(orders['revenue'], [99])[0]]['visitor_id']\n",
    "abnormalUsers = (\n",
    "    pd.concat([usersWithManyOrders, usersWithExpensiveOrders], axis=0)\n",
    "    .drop_duplicates()\n",
    "    .sort_values()\n",
    ")\n",
    "print(abnormalUsers.head(5))\n",
    "print(abnormalUsers.shape[0]) "
   ]
  },
  {
   "cell_type": "markdown",
   "metadata": {},
   "source": [
    "В \"очищенных\" данных мы избавились от 31 аномального пользователя"
   ]
  },
  {
   "cell_type": "code",
   "execution_count": 285,
   "metadata": {},
   "outputs": [],
   "source": [
    "sampleAFiltered = pd.concat(\n",
    "    [\n",
    "        ordersByUsersA[\n",
    "            np.logical_not(ordersByUsersA['userId'].isin(abnormalUsers))\n",
    "        ]['orders'],\n",
    "        pd.Series(\n",
    "            0,\n",
    "            index=np.arange(\n",
    "                data['visitorsPerDateA'].sum() - len(ordersByUsersA['orders'])\n",
    "            ),\n",
    "            name='orders',\n",
    "        ),\n",
    "    ],\n",
    "    axis=0,\n",
    ")\n",
    "\n",
    "sampleBFiltered = pd.concat(\n",
    "    [\n",
    "        ordersByUsersB[\n",
    "            np.logical_not(ordersByUsersB['userId'].isin(abnormalUsers))\n",
    "        ]['orders'],\n",
    "        pd.Series(\n",
    "            0,\n",
    "            index=np.arange(\n",
    "                data['visitorsPerDateB'].sum() - len(ordersByUsersB['orders'])\n",
    "            ),\n",
    "            name='orders',\n",
    "        ),\n",
    "    ],\n",
    "    axis=0,\n",
    ") "
   ]
  },
  {
   "cell_type": "code",
   "execution_count": 286,
   "metadata": {},
   "outputs": [
    {
     "name": "stdout",
     "output_type": "stream",
     "text": [
      "p-value: 0.010\n",
      "Разница в средних: 0.174\n"
     ]
    }
   ],
   "source": [
    "print('p-value:','{0:.3f}'.format(stats.mannwhitneyu(sampleAFiltered, sampleBFiltered)[1]))\n",
    "print('Разница в средних:','{0:.3f}'.format(sampleBFiltered.mean()/sampleAFiltered.mean()-1))"
   ]
  },
  {
   "cell_type": "markdown",
   "metadata": {},
   "source": [
    "По \"очищенным\" данным результаты изменились не сильно. p-value по-прежнему меньше 0.05, даже немного снизился по сравнению с \"сырыми\" данными. Нулевую гипотезу об отсуствии различий в среднем количестве заказов на пользователя между группами отвергаем. Относительный \"выиграш\" группы В составляет 17,4% по отношению к группе А (13,8% по сырым данным)"
   ]
  },
  {
   "cell_type": "markdown",
   "metadata": {},
   "source": [
    "## Статистическая значимость различий в среднем чеке заказа между группами по «очищенным» данным"
   ]
  },
  {
   "cell_type": "code",
   "execution_count": 287,
   "metadata": {},
   "outputs": [
    {
     "name": "stdout",
     "output_type": "stream",
     "text": [
      "p-value: 0.798\n",
      "Разница в средних: -0.020\n"
     ]
    }
   ],
   "source": [
    "print('p-value:',\n",
    "    '{0:.3f}'.format(\n",
    "        stats.mannwhitneyu(\n",
    "            orders[\n",
    "                np.logical_and(\n",
    "                    orders['group'] == 'A',\n",
    "                    np.logical_not(orders['visitor_id'].isin(abnormalUsers)),\n",
    "                )\n",
    "            ]['revenue'],\n",
    "            orders[\n",
    "                np.logical_and(\n",
    "                    orders['group'] == 'B',\n",
    "                    np.logical_not(orders['visitor_id'].isin(abnormalUsers)),\n",
    "                )\n",
    "            ]['revenue'],\n",
    "        )[1]\n",
    "    )\n",
    ")\n",
    "\n",
    "print('Разница в средних:',\n",
    "    \"{0:.3f}\".format(\n",
    "        orders[\n",
    "            np.logical_and(\n",
    "                orders['group'] == 'B',\n",
    "                np.logical_not(orders['visitor_id'].isin(abnormalUsers)),\n",
    "            )\n",
    "        ]['revenue'].mean()\n",
    "        / orders[\n",
    "            np.logical_and(\n",
    "                orders['group'] == 'A',\n",
    "                np.logical_not(orders['visitor_id'].isin(abnormalUsers)),\n",
    "            )\n",
    "        ]['revenue'].mean()\n",
    "        - 1\n",
    "    )\n",
    ") "
   ]
  },
  {
   "cell_type": "markdown",
   "metadata": {},
   "source": [
    "После удаления аномальных заказов, мы можем сделать вывод, что значимые различия в среднем чеке между двумя группами отсутствуют. p-value немного увеличился, а вот разница между двумя группами практически равна нулю (Группа В даже на 2% уступает группе А)"
   ]
  },
  {
   "cell_type": "markdown",
   "metadata": {},
   "source": [
    "# Вывод"
   ]
  },
  {
   "cell_type": "markdown",
   "metadata": {},
   "source": [
    "В данном исследовании мы анализировали результаты А/В теста и зафиксировали несколько фактов: \n",
    "1) Между группами наблюдается различие в конверсии. Группа В показывает положительную разницу по сравнению с группой А в 17,4% \\\n",
    "2) По среднему чеку различия между группами практически полностью отсуствуют. Первоначально на различия в среднем чеке сильно влиял аномальный заказ на 1,2 млн. \\\n",
    "3) График различия конверсии между группами сообщает, что результаты группы B значительно лучше группы A. После очистки данных от выбросов конечный показатель относительного изменения достиг 17,4% \\\n",
    "4) По графику относительного изменения кумулятивного среднего чека группы В к группе А нельзя сделать корректный вывод, однако именно он помог нам обнаружить главную аномалию в данных - резкий всплеск 21-го августа, именно тогда произошел заказ на 1,2 млн в группе В. В конечном счете, как уже упоминалось, после очистки данных различий в среднем чеке между группами не оказалось."
   ]
  },
  {
   "cell_type": "markdown",
   "metadata": {},
   "source": [
    "***Исходя из вышесказанного, тест можно остановить и признать успешным, закрепив лидерство за группой В. Она показала значительно более высокие показатели конверсии по сравнению с группой А при одинаковом уровне среднего чека***"
   ]
  }
 ],
 "metadata": {
  "ExecuteTimeLog": [
   {
    "duration": 402,
    "start_time": "2023-05-16T09:31:58.998Z"
   },
   {
    "duration": 104,
    "start_time": "2023-05-16T09:32:26.200Z"
   },
   {
    "duration": 122,
    "start_time": "2023-05-16T09:33:26.308Z"
   },
   {
    "duration": 31,
    "start_time": "2023-05-16T09:33:29.900Z"
   },
   {
    "duration": 12,
    "start_time": "2023-05-16T09:37:00.299Z"
   },
   {
    "duration": 13,
    "start_time": "2023-05-16T09:37:37.499Z"
   },
   {
    "duration": 18,
    "start_time": "2023-05-16T09:40:01.283Z"
   },
   {
    "duration": 11,
    "start_time": "2023-05-16T09:40:09.914Z"
   },
   {
    "duration": 176,
    "start_time": "2023-05-16T10:02:30.901Z"
   },
   {
    "duration": 19,
    "start_time": "2023-05-16T10:02:34.750Z"
   },
   {
    "duration": 24,
    "start_time": "2023-05-16T10:02:55.751Z"
   },
   {
    "duration": 9,
    "start_time": "2023-05-16T10:04:14.154Z"
   },
   {
    "duration": 3,
    "start_time": "2023-05-16T10:04:46.949Z"
   },
   {
    "duration": 8,
    "start_time": "2023-05-16T10:04:56.619Z"
   },
   {
    "duration": 11,
    "start_time": "2023-05-16T10:05:00.394Z"
   },
   {
    "duration": 11,
    "start_time": "2023-05-16T10:13:21.524Z"
   },
   {
    "duration": 6,
    "start_time": "2023-05-16T10:14:39.288Z"
   },
   {
    "duration": 397,
    "start_time": "2023-05-16T10:15:20.255Z"
   },
   {
    "duration": 463,
    "start_time": "2023-05-16T10:15:36.627Z"
   },
   {
    "duration": 498,
    "start_time": "2023-05-16T10:15:53.551Z"
   },
   {
    "duration": 17,
    "start_time": "2023-05-16T10:16:41.447Z"
   },
   {
    "duration": 8,
    "start_time": "2023-05-16T10:24:18.427Z"
   },
   {
    "duration": 13,
    "start_time": "2023-05-16T10:24:40.898Z"
   },
   {
    "duration": 6,
    "start_time": "2023-05-16T10:24:57.196Z"
   },
   {
    "duration": 5,
    "start_time": "2023-05-16T10:25:12.803Z"
   },
   {
    "duration": 12,
    "start_time": "2023-05-16T10:25:21.092Z"
   },
   {
    "duration": 2,
    "start_time": "2023-05-16T10:25:41.499Z"
   },
   {
    "duration": 44,
    "start_time": "2023-05-16T10:25:41.504Z"
   },
   {
    "duration": 22,
    "start_time": "2023-05-16T10:25:41.549Z"
   },
   {
    "duration": 28,
    "start_time": "2023-05-16T10:25:41.575Z"
   },
   {
    "duration": 66,
    "start_time": "2023-05-16T10:25:41.605Z"
   },
   {
    "duration": 17,
    "start_time": "2023-05-16T10:25:41.673Z"
   },
   {
    "duration": 3,
    "start_time": "2023-05-16T10:25:41.692Z"
   },
   {
    "duration": 25,
    "start_time": "2023-05-16T10:25:41.697Z"
   },
   {
    "duration": 12,
    "start_time": "2023-05-16T10:25:41.723Z"
   },
   {
    "duration": 7,
    "start_time": "2023-05-16T10:25:41.737Z"
   },
   {
    "duration": 16,
    "start_time": "2023-05-16T10:25:41.746Z"
   },
   {
    "duration": 5,
    "start_time": "2023-05-16T10:25:41.772Z"
   },
   {
    "duration": 2,
    "start_time": "2023-05-16T10:26:59.412Z"
   },
   {
    "duration": 36,
    "start_time": "2023-05-16T10:26:59.416Z"
   },
   {
    "duration": 23,
    "start_time": "2023-05-16T10:26:59.453Z"
   },
   {
    "duration": 14,
    "start_time": "2023-05-16T10:26:59.481Z"
   },
   {
    "duration": 49,
    "start_time": "2023-05-16T10:26:59.498Z"
   },
   {
    "duration": 18,
    "start_time": "2023-05-16T10:26:59.548Z"
   },
   {
    "duration": 9,
    "start_time": "2023-05-16T10:26:59.567Z"
   },
   {
    "duration": 15,
    "start_time": "2023-05-16T10:26:59.580Z"
   },
   {
    "duration": 5,
    "start_time": "2023-05-16T10:26:59.597Z"
   },
   {
    "duration": 12,
    "start_time": "2023-05-16T10:26:59.603Z"
   },
   {
    "duration": 4,
    "start_time": "2023-05-16T10:26:59.617Z"
   },
   {
    "duration": 7,
    "start_time": "2023-05-16T10:29:33.489Z"
   },
   {
    "duration": 3,
    "start_time": "2023-05-16T10:29:59.393Z"
   },
   {
    "duration": 11,
    "start_time": "2023-05-16T10:30:49.158Z"
   },
   {
    "duration": 28,
    "start_time": "2023-05-16T10:32:20.595Z"
   },
   {
    "duration": 181,
    "start_time": "2023-05-16T10:33:04.519Z"
   },
   {
    "duration": 359,
    "start_time": "2023-05-16T10:34:38.816Z"
   },
   {
    "duration": 368,
    "start_time": "2023-05-16T10:35:31.154Z"
   },
   {
    "duration": 318,
    "start_time": "2023-05-16T10:35:47.054Z"
   },
   {
    "duration": 323,
    "start_time": "2023-05-16T10:35:59.372Z"
   },
   {
    "duration": 469,
    "start_time": "2023-05-16T10:36:11.707Z"
   },
   {
    "duration": 348,
    "start_time": "2023-05-16T10:36:36.703Z"
   },
   {
    "duration": 441,
    "start_time": "2023-05-16T10:40:45.623Z"
   },
   {
    "duration": 282,
    "start_time": "2023-05-16T10:47:38.521Z"
   },
   {
    "duration": 319,
    "start_time": "2023-05-16T10:53:38.660Z"
   },
   {
    "duration": 285,
    "start_time": "2023-05-16T10:55:13.829Z"
   },
   {
    "duration": 360,
    "start_time": "2023-05-16T11:07:53.058Z"
   },
   {
    "duration": 332,
    "start_time": "2023-05-16T11:11:46.803Z"
   },
   {
    "duration": 2569,
    "start_time": "2023-05-16T11:16:02.686Z"
   },
   {
    "duration": 309,
    "start_time": "2023-05-16T11:17:20.726Z"
   },
   {
    "duration": 442,
    "start_time": "2023-05-16T11:20:42.515Z"
   },
   {
    "duration": 2650,
    "start_time": "2023-05-16T11:44:11.532Z"
   },
   {
    "duration": 409,
    "start_time": "2023-05-16T11:44:20.829Z"
   },
   {
    "duration": 387,
    "start_time": "2023-05-16T11:45:00.808Z"
   },
   {
    "duration": 3176,
    "start_time": "2023-05-16T11:50:48.884Z"
   },
   {
    "duration": 390,
    "start_time": "2023-05-16T11:51:58.909Z"
   },
   {
    "duration": 303,
    "start_time": "2023-05-16T11:52:48.403Z"
   },
   {
    "duration": 307,
    "start_time": "2023-05-16T11:52:54.315Z"
   },
   {
    "duration": 37,
    "start_time": "2023-05-16T11:54:16.087Z"
   },
   {
    "duration": 31,
    "start_time": "2023-05-16T11:55:50.911Z"
   },
   {
    "duration": 231,
    "start_time": "2023-05-16T11:59:32.966Z"
   },
   {
    "duration": 23,
    "start_time": "2023-05-16T11:59:39.707Z"
   },
   {
    "duration": 38,
    "start_time": "2023-05-16T11:59:43.909Z"
   },
   {
    "duration": 18,
    "start_time": "2023-05-16T12:02:14.603Z"
   },
   {
    "duration": 32,
    "start_time": "2023-05-16T12:02:23.672Z"
   },
   {
    "duration": 8,
    "start_time": "2023-05-16T12:03:05.046Z"
   },
   {
    "duration": 10,
    "start_time": "2023-05-16T12:03:08.803Z"
   },
   {
    "duration": 9,
    "start_time": "2023-05-16T12:04:11.973Z"
   },
   {
    "duration": 11,
    "start_time": "2023-05-16T12:04:13.187Z"
   },
   {
    "duration": 11,
    "start_time": "2023-05-16T12:04:34.116Z"
   },
   {
    "duration": 11,
    "start_time": "2023-05-16T12:04:35.296Z"
   },
   {
    "duration": 43,
    "start_time": "2023-05-16T12:05:23.087Z"
   },
   {
    "duration": 31,
    "start_time": "2023-05-16T12:05:30.959Z"
   },
   {
    "duration": 11,
    "start_time": "2023-05-16T12:06:44.995Z"
   },
   {
    "duration": 27,
    "start_time": "2023-05-16T12:06:49.767Z"
   },
   {
    "duration": 11,
    "start_time": "2023-05-16T12:07:32.919Z"
   },
   {
    "duration": 41,
    "start_time": "2023-05-16T12:07:34.669Z"
   },
   {
    "duration": 33,
    "start_time": "2023-05-16T12:07:47.182Z"
   },
   {
    "duration": 20,
    "start_time": "2023-05-16T12:07:48.698Z"
   },
   {
    "duration": 31,
    "start_time": "2023-05-16T12:08:50.897Z"
   },
   {
    "duration": 152,
    "start_time": "2023-05-16T12:08:50.934Z"
   },
   {
    "duration": 73,
    "start_time": "2023-05-16T12:08:51.099Z"
   },
   {
    "duration": 49,
    "start_time": "2023-05-16T12:08:51.177Z"
   },
   {
    "duration": 189,
    "start_time": "2023-05-16T12:08:51.237Z"
   },
   {
    "duration": 33,
    "start_time": "2023-05-16T12:08:51.435Z"
   },
   {
    "duration": 6,
    "start_time": "2023-05-16T12:08:51.470Z"
   },
   {
    "duration": 19,
    "start_time": "2023-05-16T12:08:51.479Z"
   },
   {
    "duration": 25,
    "start_time": "2023-05-16T12:08:51.500Z"
   },
   {
    "duration": 39,
    "start_time": "2023-05-16T12:08:51.528Z"
   },
   {
    "duration": 13,
    "start_time": "2023-05-16T12:08:51.578Z"
   },
   {
    "duration": 606,
    "start_time": "2023-05-16T12:08:51.602Z"
   },
   {
    "duration": 311,
    "start_time": "2023-05-16T12:08:52.215Z"
   },
   {
    "duration": 279,
    "start_time": "2023-05-16T12:08:52.532Z"
   },
   {
    "duration": 457,
    "start_time": "2023-05-16T12:08:52.817Z"
   },
   {
    "duration": 402,
    "start_time": "2023-05-16T12:08:53.276Z"
   },
   {
    "duration": 640,
    "start_time": "2023-05-16T12:08:53.684Z"
   },
   {
    "duration": 979,
    "start_time": "2023-05-17T09:02:50.291Z"
   },
   {
    "duration": 78,
    "start_time": "2023-05-17T09:02:51.274Z"
   },
   {
    "duration": 20,
    "start_time": "2023-05-17T09:02:51.354Z"
   },
   {
    "duration": 17,
    "start_time": "2023-05-17T09:02:51.376Z"
   },
   {
    "duration": 195,
    "start_time": "2023-05-17T09:02:51.395Z"
   },
   {
    "duration": 14,
    "start_time": "2023-05-17T09:02:51.592Z"
   },
   {
    "duration": 35,
    "start_time": "2023-05-17T09:02:51.608Z"
   },
   {
    "duration": 28,
    "start_time": "2023-05-17T09:02:51.645Z"
   },
   {
    "duration": 27,
    "start_time": "2023-05-17T09:02:51.675Z"
   },
   {
    "duration": 32,
    "start_time": "2023-05-17T09:02:51.704Z"
   },
   {
    "duration": 18,
    "start_time": "2023-05-17T09:02:51.737Z"
   },
   {
    "duration": 335,
    "start_time": "2023-05-17T09:02:51.757Z"
   },
   {
    "duration": 312,
    "start_time": "2023-05-17T09:02:52.093Z"
   },
   {
    "duration": 215,
    "start_time": "2023-05-17T09:02:52.408Z"
   },
   {
    "duration": 389,
    "start_time": "2023-05-17T09:02:52.625Z"
   },
   {
    "duration": 313,
    "start_time": "2023-05-17T09:02:53.016Z"
   },
   {
    "duration": 363,
    "start_time": "2023-05-17T09:02:53.331Z"
   },
   {
    "duration": 81,
    "start_time": "2023-05-17T09:09:45.707Z"
   },
   {
    "duration": 146,
    "start_time": "2023-05-17T09:10:11.046Z"
   },
   {
    "duration": 7,
    "start_time": "2023-05-17T09:10:23.980Z"
   },
   {
    "duration": 8,
    "start_time": "2023-05-17T09:11:19.535Z"
   },
   {
    "duration": 15,
    "start_time": "2023-05-17T09:11:46.297Z"
   },
   {
    "duration": 12,
    "start_time": "2023-05-17T09:13:00.139Z"
   },
   {
    "duration": 7,
    "start_time": "2023-05-17T09:13:05.309Z"
   },
   {
    "duration": 12,
    "start_time": "2023-05-17T09:14:00.962Z"
   },
   {
    "duration": 12,
    "start_time": "2023-05-17T09:14:06.685Z"
   },
   {
    "duration": 7,
    "start_time": "2023-05-17T09:15:03.679Z"
   },
   {
    "duration": 11,
    "start_time": "2023-05-17T09:15:29.844Z"
   },
   {
    "duration": 126,
    "start_time": "2023-05-17T09:16:21.491Z"
   },
   {
    "duration": 10,
    "start_time": "2023-05-17T09:19:50.278Z"
   },
   {
    "duration": 143,
    "start_time": "2023-05-17T09:20:06.532Z"
   },
   {
    "duration": 150,
    "start_time": "2023-05-17T09:21:19.459Z"
   },
   {
    "duration": 10,
    "start_time": "2023-05-17T09:21:30.588Z"
   },
   {
    "duration": 154,
    "start_time": "2023-05-17T09:21:38.875Z"
   },
   {
    "duration": 121,
    "start_time": "2023-05-17T09:21:46.886Z"
   },
   {
    "duration": 130,
    "start_time": "2023-05-17T09:23:09.359Z"
   },
   {
    "duration": 124,
    "start_time": "2023-05-17T09:23:30.624Z"
   },
   {
    "duration": 135,
    "start_time": "2023-05-17T09:23:51.478Z"
   },
   {
    "duration": 229,
    "start_time": "2023-05-17T09:24:32.459Z"
   },
   {
    "duration": 143,
    "start_time": "2023-05-17T09:24:44.812Z"
   },
   {
    "duration": 139,
    "start_time": "2023-05-17T09:25:58.182Z"
   },
   {
    "duration": 4,
    "start_time": "2023-05-17T09:28:21.736Z"
   },
   {
    "duration": 10,
    "start_time": "2023-05-17T09:28:26.075Z"
   },
   {
    "duration": 10,
    "start_time": "2023-05-17T09:28:53.636Z"
   },
   {
    "duration": 9,
    "start_time": "2023-05-17T09:29:13.238Z"
   },
   {
    "duration": 146,
    "start_time": "2023-05-17T09:29:26.157Z"
   },
   {
    "duration": 147,
    "start_time": "2023-05-17T09:29:52.919Z"
   },
   {
    "duration": 128,
    "start_time": "2023-05-17T09:30:15.143Z"
   },
   {
    "duration": 133,
    "start_time": "2023-05-17T09:30:44.240Z"
   },
   {
    "duration": 139,
    "start_time": "2023-05-17T09:30:59.418Z"
   },
   {
    "duration": 128,
    "start_time": "2023-05-17T09:31:02.779Z"
   },
   {
    "duration": 119,
    "start_time": "2023-05-17T09:31:27.947Z"
   },
   {
    "duration": 132,
    "start_time": "2023-05-17T09:31:31.175Z"
   },
   {
    "duration": 131,
    "start_time": "2023-05-17T09:31:57.975Z"
   },
   {
    "duration": 130,
    "start_time": "2023-05-17T09:32:05.055Z"
   },
   {
    "duration": 3,
    "start_time": "2023-05-17T09:32:23.206Z"
   },
   {
    "duration": 109,
    "start_time": "2023-05-17T09:32:23.211Z"
   },
   {
    "duration": 47,
    "start_time": "2023-05-17T09:32:23.321Z"
   },
   {
    "duration": 94,
    "start_time": "2023-05-17T09:32:23.370Z"
   },
   {
    "duration": 109,
    "start_time": "2023-05-17T09:32:23.467Z"
   },
   {
    "duration": 116,
    "start_time": "2023-05-17T09:32:23.578Z"
   },
   {
    "duration": 82,
    "start_time": "2023-05-17T09:32:23.696Z"
   },
   {
    "duration": 44,
    "start_time": "2023-05-17T09:32:23.781Z"
   },
   {
    "duration": 16,
    "start_time": "2023-05-17T09:32:23.827Z"
   },
   {
    "duration": 54,
    "start_time": "2023-05-17T09:32:23.845Z"
   },
   {
    "duration": 35,
    "start_time": "2023-05-17T09:32:23.901Z"
   },
   {
    "duration": 349,
    "start_time": "2023-05-17T09:32:23.939Z"
   },
   {
    "duration": 232,
    "start_time": "2023-05-17T09:32:24.290Z"
   },
   {
    "duration": 218,
    "start_time": "2023-05-17T09:32:24.524Z"
   },
   {
    "duration": 341,
    "start_time": "2023-05-17T09:32:24.744Z"
   },
   {
    "duration": 249,
    "start_time": "2023-05-17T09:32:25.086Z"
   },
   {
    "duration": 344,
    "start_time": "2023-05-17T09:32:25.337Z"
   },
   {
    "duration": 165,
    "start_time": "2023-05-17T09:32:25.683Z"
   },
   {
    "duration": 171,
    "start_time": "2023-05-17T09:32:25.850Z"
   },
   {
    "duration": 5,
    "start_time": "2023-05-17T09:35:02.510Z"
   },
   {
    "duration": 164,
    "start_time": "2023-05-17T09:43:47.571Z"
   },
   {
    "duration": 148,
    "start_time": "2023-05-17T09:44:13.563Z"
   },
   {
    "duration": 10,
    "start_time": "2023-05-17T09:44:45.125Z"
   },
   {
    "duration": 125,
    "start_time": "2023-05-17T09:44:51.732Z"
   },
   {
    "duration": 150,
    "start_time": "2023-05-17T09:45:19.764Z"
   },
   {
    "duration": 5,
    "start_time": "2023-05-17T09:45:25.306Z"
   },
   {
    "duration": 4,
    "start_time": "2023-05-17T09:45:50.792Z"
   },
   {
    "duration": 142,
    "start_time": "2023-05-17T09:51:31.094Z"
   },
   {
    "duration": 252,
    "start_time": "2023-05-17T09:51:52.793Z"
   },
   {
    "duration": 143,
    "start_time": "2023-05-17T09:53:41.234Z"
   },
   {
    "duration": 139,
    "start_time": "2023-05-17T09:54:22.692Z"
   },
   {
    "duration": 7,
    "start_time": "2023-05-17T09:57:36.907Z"
   },
   {
    "duration": 444,
    "start_time": "2023-05-17T10:07:12.753Z"
   },
   {
    "duration": 145,
    "start_time": "2023-05-17T10:09:27.008Z"
   },
   {
    "duration": 256,
    "start_time": "2023-05-17T10:10:40.226Z"
   },
   {
    "duration": 11,
    "start_time": "2023-05-17T10:11:56.344Z"
   },
   {
    "duration": 154,
    "start_time": "2023-05-17T10:13:11.849Z"
   },
   {
    "duration": 9,
    "start_time": "2023-05-17T10:13:13.294Z"
   },
   {
    "duration": 24,
    "start_time": "2023-05-17T10:14:19.318Z"
   },
   {
    "duration": 23,
    "start_time": "2023-05-17T10:22:20.284Z"
   },
   {
    "duration": 13,
    "start_time": "2023-05-17T10:23:51.986Z"
   },
   {
    "duration": 3779,
    "start_time": "2023-05-17T10:29:06.450Z"
   },
   {
    "duration": 10,
    "start_time": "2023-05-17T10:29:40.339Z"
   },
   {
    "duration": 13,
    "start_time": "2023-05-17T10:32:18.455Z"
   },
   {
    "duration": 25,
    "start_time": "2023-05-17T10:32:40.969Z"
   },
   {
    "duration": 3300,
    "start_time": "2023-05-17T11:12:14.342Z"
   },
   {
    "duration": 15,
    "start_time": "2023-05-17T11:12:46.713Z"
   },
   {
    "duration": 6,
    "start_time": "2023-05-17T11:30:29.355Z"
   },
   {
    "duration": 133,
    "start_time": "2023-05-17T11:38:03.797Z"
   },
   {
    "duration": 398,
    "start_time": "2023-05-17T11:38:20.201Z"
   },
   {
    "duration": 283,
    "start_time": "2023-05-17T11:39:02.712Z"
   },
   {
    "duration": 448,
    "start_time": "2023-05-17T11:41:39.148Z"
   },
   {
    "duration": 4,
    "start_time": "2023-05-17T11:49:22.003Z"
   },
   {
    "duration": 42,
    "start_time": "2023-05-17T11:49:22.009Z"
   },
   {
    "duration": 13,
    "start_time": "2023-05-17T11:49:22.053Z"
   },
   {
    "duration": 15,
    "start_time": "2023-05-17T11:49:22.067Z"
   },
   {
    "duration": 55,
    "start_time": "2023-05-17T11:49:22.085Z"
   },
   {
    "duration": 15,
    "start_time": "2023-05-17T11:49:22.142Z"
   },
   {
    "duration": 5,
    "start_time": "2023-05-17T11:49:22.159Z"
   },
   {
    "duration": 13,
    "start_time": "2023-05-17T11:49:22.166Z"
   },
   {
    "duration": 7,
    "start_time": "2023-05-17T11:49:22.181Z"
   },
   {
    "duration": 12,
    "start_time": "2023-05-17T11:49:22.189Z"
   },
   {
    "duration": 5,
    "start_time": "2023-05-17T11:49:22.204Z"
   },
   {
    "duration": 337,
    "start_time": "2023-05-17T11:49:22.211Z"
   },
   {
    "duration": 234,
    "start_time": "2023-05-17T11:49:22.549Z"
   },
   {
    "duration": 352,
    "start_time": "2023-05-17T11:49:22.786Z"
   },
   {
    "duration": 332,
    "start_time": "2023-05-17T11:49:23.140Z"
   },
   {
    "duration": 249,
    "start_time": "2023-05-17T11:49:23.475Z"
   },
   {
    "duration": 303,
    "start_time": "2023-05-17T11:49:23.726Z"
   },
   {
    "duration": 147,
    "start_time": "2023-05-17T11:49:24.032Z"
   },
   {
    "duration": 150,
    "start_time": "2023-05-17T11:49:24.182Z"
   },
   {
    "duration": 6,
    "start_time": "2023-05-17T11:49:24.333Z"
   },
   {
    "duration": 210,
    "start_time": "2023-05-17T11:49:24.341Z"
   },
   {
    "duration": 166,
    "start_time": "2023-05-17T11:49:24.554Z"
   },
   {
    "duration": 7,
    "start_time": "2023-05-17T11:49:24.723Z"
   },
   {
    "duration": 259,
    "start_time": "2023-05-17T11:49:24.732Z"
   },
   {
    "duration": 157,
    "start_time": "2023-05-17T11:49:24.993Z"
   },
   {
    "duration": 7,
    "start_time": "2023-05-17T11:49:25.152Z"
   },
   {
    "duration": 24,
    "start_time": "2023-05-17T11:49:25.172Z"
   },
   {
    "duration": 13,
    "start_time": "2023-05-17T11:49:25.198Z"
   },
   {
    "duration": 33,
    "start_time": "2023-05-17T11:49:25.213Z"
   },
   {
    "duration": 26,
    "start_time": "2023-05-17T11:49:25.247Z"
   },
   {
    "duration": 45,
    "start_time": "2023-05-17T11:49:25.276Z"
   },
   {
    "duration": 17,
    "start_time": "2023-05-17T11:49:25.323Z"
   },
   {
    "duration": 310,
    "start_time": "2023-05-17T11:49:25.343Z"
   },
   {
    "duration": 366,
    "start_time": "2023-05-17T11:49:25.655Z"
   },
   {
    "duration": 1350,
    "start_time": "2023-05-18T07:36:45.279Z"
   },
   {
    "duration": 168,
    "start_time": "2023-05-18T07:36:46.632Z"
   },
   {
    "duration": 17,
    "start_time": "2023-05-18T07:36:46.802Z"
   },
   {
    "duration": 15,
    "start_time": "2023-05-18T07:36:46.821Z"
   },
   {
    "duration": 185,
    "start_time": "2023-05-18T07:36:46.838Z"
   },
   {
    "duration": 17,
    "start_time": "2023-05-18T07:36:47.025Z"
   },
   {
    "duration": 4,
    "start_time": "2023-05-18T07:36:47.045Z"
   },
   {
    "duration": 8,
    "start_time": "2023-05-18T07:36:47.051Z"
   },
   {
    "duration": 11,
    "start_time": "2023-05-18T07:36:47.061Z"
   },
   {
    "duration": 15,
    "start_time": "2023-05-18T07:36:47.075Z"
   },
   {
    "duration": 6,
    "start_time": "2023-05-18T07:36:47.092Z"
   },
   {
    "duration": 372,
    "start_time": "2023-05-18T07:36:47.100Z"
   },
   {
    "duration": 302,
    "start_time": "2023-05-18T07:36:47.474Z"
   },
   {
    "duration": 225,
    "start_time": "2023-05-18T07:36:47.780Z"
   },
   {
    "duration": 393,
    "start_time": "2023-05-18T07:36:48.006Z"
   },
   {
    "duration": 347,
    "start_time": "2023-05-18T07:36:48.401Z"
   },
   {
    "duration": 330,
    "start_time": "2023-05-18T07:36:48.758Z"
   },
   {
    "duration": 163,
    "start_time": "2023-05-18T07:36:49.090Z"
   },
   {
    "duration": 182,
    "start_time": "2023-05-18T07:36:49.254Z"
   },
   {
    "duration": 5,
    "start_time": "2023-05-18T07:36:49.439Z"
   },
   {
    "duration": 187,
    "start_time": "2023-05-18T07:36:49.458Z"
   },
   {
    "duration": 178,
    "start_time": "2023-05-18T07:36:49.647Z"
   },
   {
    "duration": 5,
    "start_time": "2023-05-18T07:36:49.827Z"
   },
   {
    "duration": 396,
    "start_time": "2023-05-18T07:36:49.833Z"
   },
   {
    "duration": 201,
    "start_time": "2023-05-18T07:36:50.230Z"
   },
   {
    "duration": 7,
    "start_time": "2023-05-18T07:36:50.433Z"
   },
   {
    "duration": 21,
    "start_time": "2023-05-18T07:36:50.457Z"
   },
   {
    "duration": 13,
    "start_time": "2023-05-18T07:36:50.482Z"
   },
   {
    "duration": 17,
    "start_time": "2023-05-18T07:36:50.497Z"
   },
   {
    "duration": 19,
    "start_time": "2023-05-18T07:36:50.517Z"
   },
   {
    "duration": 54,
    "start_time": "2023-05-18T07:36:50.539Z"
   },
   {
    "duration": 22,
    "start_time": "2023-05-18T07:36:50.595Z"
   },
   {
    "duration": 424,
    "start_time": "2023-05-18T07:36:50.620Z"
   },
   {
    "duration": 352,
    "start_time": "2023-05-18T07:36:51.046Z"
   },
   {
    "duration": 80,
    "start_time": "2023-05-18T10:07:19.805Z"
   },
   {
    "duration": 1361,
    "start_time": "2023-05-18T10:07:27.588Z"
   },
   {
    "duration": 204,
    "start_time": "2023-05-18T10:07:28.952Z"
   },
   {
    "duration": 28,
    "start_time": "2023-05-18T10:07:36.631Z"
   },
   {
    "duration": 37,
    "start_time": "2023-05-18T10:07:51.619Z"
   },
   {
    "duration": 21,
    "start_time": "2023-05-18T10:08:08.100Z"
   },
   {
    "duration": 21,
    "start_time": "2023-05-18T10:08:10.125Z"
   },
   {
    "duration": 4,
    "start_time": "2023-05-18T10:08:23.813Z"
   },
   {
    "duration": 34,
    "start_time": "2023-05-18T10:08:23.820Z"
   },
   {
    "duration": 18,
    "start_time": "2023-05-18T10:08:23.857Z"
   },
   {
    "duration": 19,
    "start_time": "2023-05-18T10:08:25.648Z"
   },
   {
    "duration": 16,
    "start_time": "2023-05-18T10:08:47.855Z"
   },
   {
    "duration": 20,
    "start_time": "2023-05-18T10:09:08.359Z"
   },
   {
    "duration": 20,
    "start_time": "2023-05-18T10:09:22.309Z"
   },
   {
    "duration": 5,
    "start_time": "2023-05-18T10:09:27.499Z"
   },
   {
    "duration": 49,
    "start_time": "2023-05-18T10:09:27.507Z"
   },
   {
    "duration": 17,
    "start_time": "2023-05-18T10:09:27.558Z"
   },
   {
    "duration": 37,
    "start_time": "2023-05-18T10:09:27.577Z"
   },
   {
    "duration": 9,
    "start_time": "2023-05-18T11:01:10.958Z"
   },
   {
    "duration": 3,
    "start_time": "2023-05-18T11:01:15.565Z"
   },
   {
    "duration": 42,
    "start_time": "2023-05-18T11:01:15.570Z"
   },
   {
    "duration": 16,
    "start_time": "2023-05-18T11:01:15.613Z"
   },
   {
    "duration": 20,
    "start_time": "2023-05-18T11:01:15.639Z"
   },
   {
    "duration": 138,
    "start_time": "2023-05-18T11:01:15.662Z"
   },
   {
    "duration": 17,
    "start_time": "2023-05-18T11:01:15.802Z"
   },
   {
    "duration": 28,
    "start_time": "2023-05-18T11:01:15.820Z"
   },
   {
    "duration": 12,
    "start_time": "2023-05-18T11:01:15.850Z"
   },
   {
    "duration": 33,
    "start_time": "2023-05-18T11:01:15.865Z"
   },
   {
    "duration": 38,
    "start_time": "2023-05-18T11:01:15.901Z"
   },
   {
    "duration": 26,
    "start_time": "2023-05-18T11:01:15.941Z"
   },
   {
    "duration": 15,
    "start_time": "2023-05-18T11:01:15.969Z"
   },
   {
    "duration": 405,
    "start_time": "2023-05-18T11:01:15.986Z"
   },
   {
    "duration": 395,
    "start_time": "2023-05-18T11:01:16.394Z"
   },
   {
    "duration": 253,
    "start_time": "2023-05-18T11:01:16.791Z"
   },
   {
    "duration": 417,
    "start_time": "2023-05-18T11:01:17.045Z"
   },
   {
    "duration": 286,
    "start_time": "2023-05-18T11:01:17.464Z"
   },
   {
    "duration": 302,
    "start_time": "2023-05-18T11:01:17.752Z"
   },
   {
    "duration": 157,
    "start_time": "2023-05-18T11:01:18.056Z"
   },
   {
    "duration": 155,
    "start_time": "2023-05-18T11:01:18.214Z"
   },
   {
    "duration": 5,
    "start_time": "2023-05-18T11:01:18.371Z"
   },
   {
    "duration": 215,
    "start_time": "2023-05-18T11:01:18.379Z"
   },
   {
    "duration": 182,
    "start_time": "2023-05-18T11:01:18.597Z"
   },
   {
    "duration": 6,
    "start_time": "2023-05-18T11:01:18.781Z"
   },
   {
    "duration": 365,
    "start_time": "2023-05-18T11:01:18.788Z"
   },
   {
    "duration": 185,
    "start_time": "2023-05-18T11:01:19.155Z"
   },
   {
    "duration": 10,
    "start_time": "2023-05-18T11:01:19.343Z"
   },
   {
    "duration": 37,
    "start_time": "2023-05-18T11:01:19.355Z"
   },
   {
    "duration": 55,
    "start_time": "2023-05-18T11:01:19.395Z"
   },
   {
    "duration": 12,
    "start_time": "2023-05-18T11:01:19.453Z"
   },
   {
    "duration": 12,
    "start_time": "2023-05-18T11:01:19.467Z"
   },
   {
    "duration": 23,
    "start_time": "2023-05-18T11:01:19.481Z"
   },
   {
    "duration": 30,
    "start_time": "2023-05-18T11:01:19.507Z"
   },
   {
    "duration": 347,
    "start_time": "2023-05-18T11:01:19.540Z"
   },
   {
    "duration": 356,
    "start_time": "2023-05-18T11:01:19.889Z"
   },
   {
    "duration": 5,
    "start_time": "2023-05-18T11:01:47.610Z"
   },
   {
    "duration": 12,
    "start_time": "2023-05-18T11:02:58.666Z"
   },
   {
    "duration": 4,
    "start_time": "2023-05-18T11:03:07.093Z"
   },
   {
    "duration": 5,
    "start_time": "2023-05-18T11:03:16.547Z"
   },
   {
    "duration": 8,
    "start_time": "2023-05-18T11:03:40.318Z"
   },
   {
    "duration": 6,
    "start_time": "2023-05-18T11:03:57.619Z"
   },
   {
    "duration": 5,
    "start_time": "2023-05-18T11:04:05.810Z"
   },
   {
    "duration": 7,
    "start_time": "2023-05-18T11:04:06.995Z"
   },
   {
    "duration": 9,
    "start_time": "2023-05-18T11:05:23.991Z"
   },
   {
    "duration": 14,
    "start_time": "2023-05-18T11:05:49.042Z"
   },
   {
    "duration": 8,
    "start_time": "2023-05-18T11:06:30.386Z"
   },
   {
    "duration": 43,
    "start_time": "2023-05-18T11:13:21.908Z"
   },
   {
    "duration": 158,
    "start_time": "2023-05-18T11:13:33.853Z"
   },
   {
    "duration": 187,
    "start_time": "2023-05-18T11:13:53.752Z"
   },
   {
    "duration": 179,
    "start_time": "2023-05-18T11:14:17.784Z"
   },
   {
    "duration": 197,
    "start_time": "2023-05-18T11:14:48.010Z"
   },
   {
    "duration": 223,
    "start_time": "2023-05-18T11:15:18.770Z"
   },
   {
    "duration": 323,
    "start_time": "2023-05-18T11:16:23.350Z"
   },
   {
    "duration": 241,
    "start_time": "2023-05-18T11:16:31.799Z"
   },
   {
    "duration": 225,
    "start_time": "2023-05-18T11:16:40.476Z"
   },
   {
    "duration": 197,
    "start_time": "2023-05-18T11:17:19.334Z"
   },
   {
    "duration": 279,
    "start_time": "2023-05-18T11:17:42.960Z"
   },
   {
    "duration": 190,
    "start_time": "2023-05-18T11:18:39.295Z"
   },
   {
    "duration": 420,
    "start_time": "2023-05-18T11:18:45.883Z"
   },
   {
    "duration": 236,
    "start_time": "2023-05-18T11:18:56.956Z"
   },
   {
    "duration": 258,
    "start_time": "2023-05-18T11:20:00.503Z"
   },
   {
    "duration": 266,
    "start_time": "2023-05-18T11:27:59.502Z"
   },
   {
    "duration": 223,
    "start_time": "2023-05-18T11:28:07.160Z"
   },
   {
    "duration": 215,
    "start_time": "2023-05-18T11:28:10.784Z"
   },
   {
    "duration": 220,
    "start_time": "2023-05-18T11:28:23.445Z"
   },
   {
    "duration": 236,
    "start_time": "2023-05-18T11:28:32.963Z"
   },
   {
    "duration": 243,
    "start_time": "2023-05-18T11:28:38.940Z"
   },
   {
    "duration": 320,
    "start_time": "2023-05-18T11:29:31.240Z"
   },
   {
    "duration": 306,
    "start_time": "2023-05-18T11:30:39.036Z"
   },
   {
    "duration": 231,
    "start_time": "2023-05-18T11:30:53.483Z"
   },
   {
    "duration": 288,
    "start_time": "2023-05-18T11:31:23.783Z"
   },
   {
    "duration": 106,
    "start_time": "2023-05-18T11:33:20.588Z"
   },
   {
    "duration": 126,
    "start_time": "2023-05-18T11:33:22.467Z"
   },
   {
    "duration": 97,
    "start_time": "2023-05-18T11:34:04.239Z"
   },
   {
    "duration": 139,
    "start_time": "2023-05-18T11:34:07.051Z"
   },
   {
    "duration": 146,
    "start_time": "2023-05-18T11:34:35.475Z"
   },
   {
    "duration": 148,
    "start_time": "2023-05-18T11:34:49.991Z"
   },
   {
    "duration": 152,
    "start_time": "2023-05-18T11:35:33.922Z"
   },
   {
    "duration": 148,
    "start_time": "2023-05-18T11:36:13.835Z"
   },
   {
    "duration": 145,
    "start_time": "2023-05-18T11:36:21.975Z"
   },
   {
    "duration": 154,
    "start_time": "2023-05-18T11:36:26.147Z"
   },
   {
    "duration": 24,
    "start_time": "2023-05-18T11:41:28.682Z"
   },
   {
    "duration": 24,
    "start_time": "2023-05-18T11:41:44.558Z"
   },
   {
    "duration": 330,
    "start_time": "2023-05-18T11:42:01.364Z"
   },
   {
    "duration": 3,
    "start_time": "2023-05-18T11:42:46.741Z"
   },
   {
    "duration": 65,
    "start_time": "2023-05-18T11:42:46.746Z"
   },
   {
    "duration": 14,
    "start_time": "2023-05-18T11:42:46.813Z"
   },
   {
    "duration": 40,
    "start_time": "2023-05-18T11:42:46.830Z"
   },
   {
    "duration": 95,
    "start_time": "2023-05-18T11:42:46.872Z"
   },
   {
    "duration": 12,
    "start_time": "2023-05-18T11:42:46.969Z"
   },
   {
    "duration": 4,
    "start_time": "2023-05-18T11:42:46.983Z"
   },
   {
    "duration": 7,
    "start_time": "2023-05-18T11:42:46.989Z"
   },
   {
    "duration": 7,
    "start_time": "2023-05-18T11:42:46.998Z"
   },
   {
    "duration": 22,
    "start_time": "2023-05-18T11:42:47.006Z"
   },
   {
    "duration": 8,
    "start_time": "2023-05-18T11:42:47.030Z"
   },
   {
    "duration": 24,
    "start_time": "2023-05-18T11:42:47.041Z"
   },
   {
    "duration": 6,
    "start_time": "2023-05-18T11:42:47.067Z"
   },
   {
    "duration": 8,
    "start_time": "2023-05-18T11:42:47.075Z"
   },
   {
    "duration": 259,
    "start_time": "2023-05-18T11:42:47.084Z"
   },
   {
    "duration": 302,
    "start_time": "2023-05-18T11:42:47.345Z"
   },
   {
    "duration": 221,
    "start_time": "2023-05-18T11:42:47.649Z"
   },
   {
    "duration": 207,
    "start_time": "2023-05-18T11:42:47.871Z"
   },
   {
    "duration": 280,
    "start_time": "2023-05-18T11:42:48.080Z"
   },
   {
    "duration": 239,
    "start_time": "2023-05-18T11:42:48.361Z"
   },
   {
    "duration": 338,
    "start_time": "2023-05-18T11:42:48.602Z"
   },
   {
    "duration": 154,
    "start_time": "2023-05-18T11:42:48.943Z"
   },
   {
    "duration": 145,
    "start_time": "2023-05-18T11:42:49.098Z"
   },
   {
    "duration": 4,
    "start_time": "2023-05-18T11:42:49.245Z"
   },
   {
    "duration": 157,
    "start_time": "2023-05-18T11:42:49.250Z"
   },
   {
    "duration": 162,
    "start_time": "2023-05-18T11:42:49.408Z"
   },
   {
    "duration": 5,
    "start_time": "2023-05-18T11:42:49.572Z"
   },
   {
    "duration": 265,
    "start_time": "2023-05-18T11:42:49.579Z"
   },
   {
    "duration": 230,
    "start_time": "2023-05-18T11:42:49.846Z"
   },
   {
    "duration": 8,
    "start_time": "2023-05-18T11:42:50.079Z"
   },
   {
    "duration": 42,
    "start_time": "2023-05-18T11:42:50.089Z"
   },
   {
    "duration": 12,
    "start_time": "2023-05-18T11:42:50.134Z"
   },
   {
    "duration": 24,
    "start_time": "2023-05-18T11:42:50.147Z"
   },
   {
    "duration": 13,
    "start_time": "2023-05-18T11:42:50.173Z"
   },
   {
    "duration": 56,
    "start_time": "2023-05-18T11:42:50.189Z"
   },
   {
    "duration": 15,
    "start_time": "2023-05-18T11:42:50.247Z"
   },
   {
    "duration": 302,
    "start_time": "2023-05-18T11:42:50.264Z"
   },
   {
    "duration": 387,
    "start_time": "2023-05-18T11:42:50.568Z"
   },
   {
    "duration": 4,
    "start_time": "2023-05-18T11:46:06.977Z"
   },
   {
    "duration": 41,
    "start_time": "2023-05-18T11:46:06.983Z"
   },
   {
    "duration": 19,
    "start_time": "2023-05-18T11:46:07.029Z"
   },
   {
    "duration": 16,
    "start_time": "2023-05-18T11:46:07.049Z"
   },
   {
    "duration": 78,
    "start_time": "2023-05-18T11:46:07.067Z"
   },
   {
    "duration": 20,
    "start_time": "2023-05-18T11:46:07.147Z"
   },
   {
    "duration": 4,
    "start_time": "2023-05-18T11:46:07.169Z"
   },
   {
    "duration": 13,
    "start_time": "2023-05-18T11:46:07.176Z"
   },
   {
    "duration": 7,
    "start_time": "2023-05-18T11:46:07.191Z"
   },
   {
    "duration": 20,
    "start_time": "2023-05-18T11:46:07.199Z"
   },
   {
    "duration": 11,
    "start_time": "2023-05-18T11:46:07.221Z"
   },
   {
    "duration": 8,
    "start_time": "2023-05-18T11:46:07.234Z"
   },
   {
    "duration": 12,
    "start_time": "2023-05-18T11:46:07.244Z"
   },
   {
    "duration": 19,
    "start_time": "2023-05-18T11:46:07.258Z"
   },
   {
    "duration": 289,
    "start_time": "2023-05-18T11:46:07.279Z"
   },
   {
    "duration": 296,
    "start_time": "2023-05-18T11:46:07.569Z"
   },
   {
    "duration": 226,
    "start_time": "2023-05-18T11:46:07.867Z"
   },
   {
    "duration": 209,
    "start_time": "2023-05-18T11:46:08.095Z"
   },
   {
    "duration": 335,
    "start_time": "2023-05-18T11:46:08.306Z"
   },
   {
    "duration": 268,
    "start_time": "2023-05-18T11:46:08.644Z"
   },
   {
    "duration": 338,
    "start_time": "2023-05-18T11:46:08.914Z"
   },
   {
    "duration": 138,
    "start_time": "2023-05-18T11:46:09.254Z"
   },
   {
    "duration": 153,
    "start_time": "2023-05-18T11:46:09.394Z"
   },
   {
    "duration": 8,
    "start_time": "2023-05-18T11:46:09.549Z"
   },
   {
    "duration": 213,
    "start_time": "2023-05-18T11:46:09.559Z"
   },
   {
    "duration": 184,
    "start_time": "2023-05-18T11:46:09.775Z"
   },
   {
    "duration": 5,
    "start_time": "2023-05-18T11:46:09.962Z"
   },
   {
    "duration": 316,
    "start_time": "2023-05-18T11:46:15.120Z"
   },
   {
    "duration": 127,
    "start_time": "2023-05-18T11:46:16.451Z"
   },
   {
    "duration": 1618,
    "start_time": "2023-05-18T11:46:17.239Z"
   },
   {
    "duration": 0,
    "start_time": "2023-05-18T11:46:18.859Z"
   },
   {
    "duration": 3,
    "start_time": "2023-05-18T11:46:29.267Z"
   },
   {
    "duration": 38,
    "start_time": "2023-05-18T11:46:29.272Z"
   },
   {
    "duration": 12,
    "start_time": "2023-05-18T11:46:29.312Z"
   },
   {
    "duration": 14,
    "start_time": "2023-05-18T11:46:29.326Z"
   },
   {
    "duration": 54,
    "start_time": "2023-05-18T11:46:29.342Z"
   },
   {
    "duration": 12,
    "start_time": "2023-05-18T11:46:29.398Z"
   },
   {
    "duration": 7,
    "start_time": "2023-05-18T11:46:29.412Z"
   },
   {
    "duration": 15,
    "start_time": "2023-05-18T11:46:29.420Z"
   },
   {
    "duration": 15,
    "start_time": "2023-05-18T11:46:29.437Z"
   },
   {
    "duration": 13,
    "start_time": "2023-05-18T11:46:29.454Z"
   },
   {
    "duration": 5,
    "start_time": "2023-05-18T11:46:29.471Z"
   },
   {
    "duration": 6,
    "start_time": "2023-05-18T11:46:29.478Z"
   },
   {
    "duration": 6,
    "start_time": "2023-05-18T11:46:29.485Z"
   },
   {
    "duration": 10,
    "start_time": "2023-05-18T11:46:29.492Z"
   },
   {
    "duration": 298,
    "start_time": "2023-05-18T11:46:29.503Z"
   },
   {
    "duration": 294,
    "start_time": "2023-05-18T11:46:29.803Z"
   },
   {
    "duration": 220,
    "start_time": "2023-05-18T11:46:30.099Z"
   },
   {
    "duration": 214,
    "start_time": "2023-05-18T11:46:30.321Z"
   },
   {
    "duration": 292,
    "start_time": "2023-05-18T11:46:30.537Z"
   },
   {
    "duration": 246,
    "start_time": "2023-05-18T11:46:30.831Z"
   },
   {
    "duration": 285,
    "start_time": "2023-05-18T11:46:31.079Z"
   },
   {
    "duration": 140,
    "start_time": "2023-05-18T11:46:31.366Z"
   },
   {
    "duration": 135,
    "start_time": "2023-05-18T11:46:31.508Z"
   },
   {
    "duration": 6,
    "start_time": "2023-05-18T11:46:31.645Z"
   },
   {
    "duration": 201,
    "start_time": "2023-05-18T11:46:31.653Z"
   },
   {
    "duration": 158,
    "start_time": "2023-05-18T11:46:31.855Z"
   },
   {
    "duration": 12,
    "start_time": "2023-05-18T11:46:32.015Z"
   },
   {
    "duration": 232,
    "start_time": "2023-05-18T11:46:32.029Z"
   },
   {
    "duration": 142,
    "start_time": "2023-05-18T11:46:32.265Z"
   },
   {
    "duration": 18,
    "start_time": "2023-05-18T11:46:32.409Z"
   },
   {
    "duration": 25,
    "start_time": "2023-05-18T11:46:32.430Z"
   },
   {
    "duration": 16,
    "start_time": "2023-05-18T11:46:32.457Z"
   },
   {
    "duration": 10,
    "start_time": "2023-05-18T11:46:32.475Z"
   },
   {
    "duration": 10,
    "start_time": "2023-05-18T11:46:32.487Z"
   },
   {
    "duration": 48,
    "start_time": "2023-05-18T11:46:32.499Z"
   },
   {
    "duration": 15,
    "start_time": "2023-05-18T11:46:32.548Z"
   },
   {
    "duration": 304,
    "start_time": "2023-05-18T11:46:32.564Z"
   },
   {
    "duration": 357,
    "start_time": "2023-05-18T11:46:32.870Z"
   },
   {
    "duration": 13,
    "start_time": "2023-05-18T11:47:39.683Z"
   },
   {
    "duration": 21,
    "start_time": "2023-05-18T11:49:39.735Z"
   },
   {
    "duration": 16,
    "start_time": "2023-05-18T11:50:14.446Z"
   },
   {
    "duration": 10,
    "start_time": "2023-05-18T11:51:41.470Z"
   },
   {
    "duration": 24,
    "start_time": "2023-05-18T11:52:38.502Z"
   },
   {
    "duration": 27,
    "start_time": "2023-05-18T11:52:56.746Z"
   },
   {
    "duration": 3,
    "start_time": "2023-05-18T11:54:25.576Z"
   },
   {
    "duration": 35,
    "start_time": "2023-05-18T11:54:25.581Z"
   },
   {
    "duration": 22,
    "start_time": "2023-05-18T11:54:25.618Z"
   },
   {
    "duration": 15,
    "start_time": "2023-05-18T11:54:25.642Z"
   },
   {
    "duration": 64,
    "start_time": "2023-05-18T11:54:25.660Z"
   },
   {
    "duration": 13,
    "start_time": "2023-05-18T11:54:25.726Z"
   },
   {
    "duration": 5,
    "start_time": "2023-05-18T11:54:25.741Z"
   },
   {
    "duration": 8,
    "start_time": "2023-05-18T11:54:25.748Z"
   },
   {
    "duration": 6,
    "start_time": "2023-05-18T11:54:25.758Z"
   },
   {
    "duration": 11,
    "start_time": "2023-05-18T11:54:25.765Z"
   },
   {
    "duration": 8,
    "start_time": "2023-05-18T11:54:25.777Z"
   },
   {
    "duration": 43,
    "start_time": "2023-05-18T11:54:25.786Z"
   },
   {
    "duration": 7,
    "start_time": "2023-05-18T11:54:25.832Z"
   },
   {
    "duration": 8,
    "start_time": "2023-05-18T11:54:25.844Z"
   },
   {
    "duration": 260,
    "start_time": "2023-05-18T11:54:25.854Z"
   },
   {
    "duration": 319,
    "start_time": "2023-05-18T11:54:26.115Z"
   },
   {
    "duration": 233,
    "start_time": "2023-05-18T11:54:26.438Z"
   },
   {
    "duration": 218,
    "start_time": "2023-05-18T11:54:26.673Z"
   },
   {
    "duration": 337,
    "start_time": "2023-05-18T11:54:26.893Z"
   },
   {
    "duration": 259,
    "start_time": "2023-05-18T11:54:27.231Z"
   },
   {
    "duration": 315,
    "start_time": "2023-05-18T11:54:27.492Z"
   },
   {
    "duration": 147,
    "start_time": "2023-05-18T11:54:27.808Z"
   },
   {
    "duration": 135,
    "start_time": "2023-05-18T11:54:27.957Z"
   },
   {
    "duration": 4,
    "start_time": "2023-05-18T11:54:28.094Z"
   },
   {
    "duration": 171,
    "start_time": "2023-05-18T11:54:28.099Z"
   },
   {
    "duration": 155,
    "start_time": "2023-05-18T11:54:28.272Z"
   },
   {
    "duration": 8,
    "start_time": "2023-05-18T11:54:28.430Z"
   },
   {
    "duration": 339,
    "start_time": "2023-05-18T11:54:28.440Z"
   },
   {
    "duration": 161,
    "start_time": "2023-05-18T11:54:28.781Z"
   },
   {
    "duration": 9,
    "start_time": "2023-05-18T11:54:28.944Z"
   },
   {
    "duration": 28,
    "start_time": "2023-05-18T11:54:28.955Z"
   },
   {
    "duration": 11,
    "start_time": "2023-05-18T11:54:28.985Z"
   },
   {
    "duration": 38,
    "start_time": "2023-05-18T11:54:28.998Z"
   },
   {
    "duration": 8,
    "start_time": "2023-05-18T11:54:29.039Z"
   },
   {
    "duration": 22,
    "start_time": "2023-05-18T11:54:29.048Z"
   },
   {
    "duration": 14,
    "start_time": "2023-05-18T11:54:29.072Z"
   },
   {
    "duration": 3,
    "start_time": "2023-05-18T12:06:12.234Z"
   },
   {
    "duration": 48,
    "start_time": "2023-05-18T12:06:12.240Z"
   },
   {
    "duration": 18,
    "start_time": "2023-05-18T12:06:12.291Z"
   },
   {
    "duration": 29,
    "start_time": "2023-05-18T12:06:12.311Z"
   },
   {
    "duration": 63,
    "start_time": "2023-05-18T12:06:12.344Z"
   },
   {
    "duration": 19,
    "start_time": "2023-05-18T12:06:12.410Z"
   },
   {
    "duration": 12,
    "start_time": "2023-05-18T12:06:12.431Z"
   },
   {
    "duration": 13,
    "start_time": "2023-05-18T12:06:12.445Z"
   },
   {
    "duration": 18,
    "start_time": "2023-05-18T12:06:12.460Z"
   },
   {
    "duration": 19,
    "start_time": "2023-05-18T12:06:12.480Z"
   },
   {
    "duration": 16,
    "start_time": "2023-05-18T12:06:12.501Z"
   },
   {
    "duration": 13,
    "start_time": "2023-05-18T12:06:12.519Z"
   },
   {
    "duration": 17,
    "start_time": "2023-05-18T12:06:12.534Z"
   },
   {
    "duration": 30,
    "start_time": "2023-05-18T12:06:12.554Z"
   },
   {
    "duration": 259,
    "start_time": "2023-05-18T12:06:12.586Z"
   },
   {
    "duration": 353,
    "start_time": "2023-05-18T12:06:12.848Z"
   },
   {
    "duration": 233,
    "start_time": "2023-05-18T12:06:13.203Z"
   },
   {
    "duration": 233,
    "start_time": "2023-05-18T12:06:13.438Z"
   },
   {
    "duration": 300,
    "start_time": "2023-05-18T12:06:13.672Z"
   },
   {
    "duration": 280,
    "start_time": "2023-05-18T12:06:13.974Z"
   },
   {
    "duration": 296,
    "start_time": "2023-05-18T12:06:14.256Z"
   },
   {
    "duration": 144,
    "start_time": "2023-05-18T12:06:14.554Z"
   },
   {
    "duration": 145,
    "start_time": "2023-05-18T12:06:14.699Z"
   },
   {
    "duration": 5,
    "start_time": "2023-05-18T12:06:14.847Z"
   },
   {
    "duration": 173,
    "start_time": "2023-05-18T12:06:14.854Z"
   },
   {
    "duration": 160,
    "start_time": "2023-05-18T12:06:15.029Z"
   },
   {
    "duration": 5,
    "start_time": "2023-05-18T12:06:15.191Z"
   },
   {
    "duration": 242,
    "start_time": "2023-05-18T12:06:15.198Z"
   },
   {
    "duration": 149,
    "start_time": "2023-05-18T12:06:15.442Z"
   },
   {
    "duration": 8,
    "start_time": "2023-05-18T12:06:15.593Z"
   },
   {
    "duration": 43,
    "start_time": "2023-05-18T12:06:15.603Z"
   },
   {
    "duration": 11,
    "start_time": "2023-05-18T12:06:15.647Z"
   },
   {
    "duration": 13,
    "start_time": "2023-05-18T12:06:15.660Z"
   },
   {
    "duration": 9,
    "start_time": "2023-05-18T12:06:15.675Z"
   },
   {
    "duration": 55,
    "start_time": "2023-05-18T12:06:15.687Z"
   },
   {
    "duration": 15,
    "start_time": "2023-05-18T12:06:15.744Z"
   }
  ],
  "kernelspec": {
   "display_name": "Python 3 (ipykernel)",
   "language": "python",
   "name": "python3"
  },
  "language_info": {
   "codemirror_mode": {
    "name": "ipython",
    "version": 3
   },
   "file_extension": ".py",
   "mimetype": "text/x-python",
   "name": "python",
   "nbconvert_exporter": "python",
   "pygments_lexer": "ipython3",
   "version": "3.11.3"
  },
  "toc": {
   "base_numbering": 1,
   "nav_menu": {
    "height": "335px",
    "width": "757px"
   },
   "number_sections": true,
   "sideBar": true,
   "skip_h1_title": true,
   "title_cell": "Table of Contents",
   "title_sidebar": "Contents",
   "toc_cell": false,
   "toc_position": {},
   "toc_section_display": true,
   "toc_window_display": false
  }
 },
 "nbformat": 4,
 "nbformat_minor": 2
}
